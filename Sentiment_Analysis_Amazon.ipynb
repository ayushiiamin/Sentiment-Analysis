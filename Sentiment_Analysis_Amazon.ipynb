{
 "cells": [
  {
   "cell_type": "markdown",
   "metadata": {},
   "source": [
    "# Homework 1 - CSCI544"
   ]
  },
  {
   "cell_type": "markdown",
   "metadata": {},
   "source": [
    "## Name: Ayushi Amin\n",
    "## USC ID: 6796176811"
   ]
  },
  {
   "cell_type": "markdown",
   "metadata": {},
   "source": [
    "## References\n",
    "* GeeksforGeeks. (2021). How to load a TSV file into a Pandas DataFrame? [online] Available at: https://www.geeksforgeeks.org/how-to-load-a-tsv-file-into-a-pandas-dataframe/\n",
    "* GeeksforGeeks. (2021). How to Replace Values in Column Based on Condition in Pandas? [online] Available at: https://www.geeksforgeeks.org/how-to-replace-values-in-column-based-on-condition-in-pandas/\n",
    "* Pydata.org. (2016). Merge, join, concatenate and compare — pandas 1.5.3 documentation. [online] Available at: https://pandas.pydata.org/docs/user_guide/merging.html\n",
    "* Skytowner.com. (2022). Randomly select rows based on a condition from a Pandas DataFrame. [online] Available at: https://www.skytowner.com/explore/randomly_select_rows_based_on_a_condition\n",
    "* GeeksforGeeks. (2020). Pandas – How to shuffle a DataFrame rows. [online] Available at: https://www.geeksforgeeks.org/pandas-how-to-shuffle-a-dataframe-rows/\n",
    "* Datasnips.com. (2023). Python | Get Average Length of Strings in a Pandas DataFrame Column | Datasnips. [online] Available at: https://www.datasnips.com/89/get-average-length-of-text-in-a-dataframe-column/\n",
    "* B, D. (2013). Python/BeautifulSoup - how to remove all tags from an element? [online] Stack Overflow. Available at: https://stackoverflow.com/questions/16206380/python-beautifulsoup-how-to-remove-all-tags-from-an-element\n",
    "* KDecker (2014). Python, remove all non-alphabet chars from string. [online] Stack Overflow. Available at: https://stackoverflow.com/questions/22520932/python-remove-all-non-alphabet-chars-from-string\n",
    "* Mauro Di Pietro (2020). Text Analysis & Feature Engineering with NLP - Towards Data Science. [online] Medium. Available at: https://towardsdatascience.com/text-analysis-feature-engineering-with-nlp-502d6ea9225d\n",
    "* Machinelearningplus.com. (2018). [online] Available at: https://www.machinelearningplus.com/nlp/lemmatization-examples-python/\n",
    "* scikit-learn. (2023). sklearn.feature_extraction.text.TfidfVectorizer. [online] Available at: https://scikit-learn.org/stable/modules/generated/sklearn.feature_extraction.text.TfidfVectorizer.html\n",
    "* lte__ (2017). Append tfidf to pandas dataframe. [online] Stack Overflow. Available at: https://stackoverflow.com/questions/45961747/append-tfidf-to-pandas-dataframe\n",
    "* Python-course.eu. (2022). 13. Perceptron class in sklearn | Machine Learning | python-course.eu. [online] Available at: https://python-course.eu/machine-learning/perceptron-class-in-sklearn.php\n",
    "* scikit-learn. (2023). sklearn.svm.LinearSVC. [online] Available at: https://scikit-learn.org/stable/modules/generated/sklearn.svm.LinearSVC.html\n",
    "* scikit-learn. (2014). sklearn.linear_model.LogisticRegression. [online] Available at: https://scikit-learn.org/stable/modules/generated/sklearn.linear_model.LogisticRegression.html\n",
    "* scikit-learn. (2023). sklearn.naive_bayes.MultinomialNB. [online] Available at: https://scikit-learn.org/stable/modules/generated/sklearn.naive_bayes.MultinomialNB.html\n",
    "* bigbug (2012). How to drop rows of Pandas DataFrame whose value in a certain column is NaN. [online] Stack Overflow. Available at: https://stackoverflow.com/questions/13413590/how-to-drop-rows-of-pandas-dataframe-whose-value-in-a-certain-column-is-nan\n",
    "\n"
   ]
  },
  {
   "cell_type": "markdown",
   "metadata": {},
   "source": [
    "<i><b>Note:</b></i> <b>The explanations for each step is given below near its respective code snippet</b>"
   ]
  },
  {
   "cell_type": "markdown",
   "metadata": {},
   "source": [
    "## Imports and Downloads"
   ]
  },
  {
   "cell_type": "markdown",
   "metadata": {},
   "source": [
    "### List of Libraries used\n",
    "* Pandas\n",
    "* NumPy\n",
    "* NLTK\n",
    "* Re (For RegEx)\n",
    "* BeautifulSoup\n",
    "* contractions\n",
    "* sklearn"
   ]
  },
  {
   "cell_type": "code",
   "execution_count": 1,
   "metadata": {
    "colab": {
     "base_uri": "https://localhost:8080/"
    },
    "executionInfo": {
     "elapsed": 11646,
     "status": "ok",
     "timestamp": 1674262226652,
     "user": {
      "displayName": "ayushi amin",
      "userId": "06248665986512062761"
     },
     "user_tz": 480
    },
    "id": "tVZI0A4LrWvV",
    "outputId": "96967fdb-8d7e-49d8-a67f-4bcbddd5feee"
   },
   "outputs": [
    {
     "name": "stdout",
     "output_type": "stream",
     "text": [
      "Requirement already satisfied: contractions in /opt/homebrew/lib/python3.10/site-packages (0.1.73)\r\n",
      "Requirement already satisfied: textsearch>=0.0.21 in /opt/homebrew/lib/python3.10/site-packages (from contractions) (0.0.24)\r\n",
      "Requirement already satisfied: pyahocorasick in /opt/homebrew/lib/python3.10/site-packages (from textsearch>=0.0.21->contractions) (2.0.0)\r\n",
      "Requirement already satisfied: anyascii in /opt/homebrew/lib/python3.10/site-packages (from textsearch>=0.0.21->contractions) (0.3.1)\r\n"
     ]
    }
   ],
   "source": [
    "! pip install contractions"
   ]
  },
  {
   "cell_type": "code",
   "execution_count": 2,
   "metadata": {
    "colab": {
     "base_uri": "https://localhost:8080/"
    },
    "executionInfo": {
     "elapsed": 3818,
     "status": "ok",
     "timestamp": 1674262230459,
     "user": {
      "displayName": "ayushi amin",
      "userId": "06248665986512062761"
     },
     "user_tz": 480
    },
    "id": "qwteS2waix7U",
    "outputId": "1ec13a97-ae07-4236-b287-adab4715fb2a"
   },
   "outputs": [
    {
     "name": "stderr",
     "output_type": "stream",
     "text": [
      "[nltk_data] Downloading package wordnet to\n",
      "[nltk_data]     /Users/ayushiiamin/nltk_data...\n",
      "[nltk_data]   Package wordnet is already up-to-date!\n",
      "[nltk_data] Downloading package stopwords to\n",
      "[nltk_data]     /Users/ayushiiamin/nltk_data...\n",
      "[nltk_data]   Package stopwords is already up-to-date!\n",
      "[nltk_data] Downloading package omw-1.4 to\n",
      "[nltk_data]     /Users/ayushiiamin/nltk_data...\n",
      "[nltk_data]   Package omw-1.4 is already up-to-date!\n",
      "[nltk_data] Downloading package punkt to\n",
      "[nltk_data]     /Users/ayushiiamin/nltk_data...\n",
      "[nltk_data]   Package punkt is already up-to-date!\n",
      "[nltk_data] Downloading package averaged_perceptron_tagger to\n",
      "[nltk_data]     /Users/ayushiiamin/nltk_data...\n",
      "[nltk_data]   Package averaged_perceptron_tagger is already up-to-\n",
      "[nltk_data]       date!\n"
     ]
    }
   ],
   "source": [
    "import pandas as pd\n",
    "import numpy as np\n",
    "import nltk\n",
    "nltk.download('wordnet')\n",
    "nltk.download('stopwords')\n",
    "nltk.download('omw-1.4')\n",
    "nltk.download('punkt')\n",
    "nltk.download('averaged_perceptron_tagger')\n",
    "import re\n",
    "from bs4 import BeautifulSoup\n",
    " \n",
    "import contractions\n",
    "import sklearn\n",
    "from sklearn.feature_extraction.text import TfidfVectorizer\n",
    "from sklearn.model_selection import train_test_split"
   ]
  },
  {
   "cell_type": "code",
   "execution_count": 3,
   "metadata": {
    "colab": {
     "base_uri": "https://localhost:8080/"
    },
    "executionInfo": {
     "elapsed": 6576,
     "status": "ok",
     "timestamp": 1674262237024,
     "user": {
      "displayName": "ayushi amin",
      "userId": "06248665986512062761"
     },
     "user_tz": 480
    },
    "id": "3iHTh9Twix7X",
    "outputId": "db974042-cd8d-4484-8d17-b68b6dc68b77"
   },
   "outputs": [
    {
     "name": "stdout",
     "output_type": "stream",
     "text": [
      "Requirement already satisfied: bs4 in /opt/homebrew/lib/python3.10/site-packages (0.0.1)\r\n",
      "Requirement already satisfied: beautifulsoup4 in /opt/homebrew/lib/python3.10/site-packages (from bs4) (4.11.1)\r\n",
      "Requirement already satisfied: soupsieve>1.2 in /opt/homebrew/lib/python3.10/site-packages (from beautifulsoup4->bs4) (2.3.2.post1)\r\n"
     ]
    }
   ],
   "source": [
    "! pip install bs4 # in case you don't have it installed\n",
    "\n",
    "# Dataset: https://s3.amazonaws.com/amazon-reviews-pds/tsv/amazon_reviews_us_Beauty_v1_00.tsv.gz"
   ]
  },
  {
   "cell_type": "markdown",
   "metadata": {
    "id": "NeRwYieRix7Y"
   },
   "source": [
    "## Read Data"
   ]
  },
  {
   "cell_type": "markdown",
   "metadata": {},
   "source": [
    "As we are reading a .tsv file, the <b>sep</b> parameter was set to be <b>\\t</b>. \n",
    "It was observed that during the parsing process, pandas was facing an issue while interpreting the data. To fix this error, the <b>on_bad_lines='skip'</b> parameter was added."
   ]
  },
  {
   "cell_type": "code",
   "execution_count": 4,
   "metadata": {
    "colab": {
     "base_uri": "https://localhost:8080/",
     "height": 399
    },
    "executionInfo": {
     "elapsed": 65660,
     "status": "ok",
     "timestamp": 1674262303646,
     "user": {
      "displayName": "ayushi amin",
      "userId": "06248665986512062761"
     },
     "user_tz": 480
    },
    "id": "Wy66BXyqix7Z",
    "outputId": "84a96988-856d-473e-c61b-c63ecb84cff2"
   },
   "outputs": [
    {
     "name": "stderr",
     "output_type": "stream",
     "text": [
      "/var/folders/_0/3b0sqbb96sq0f8c32l7h9g0h0000gn/T/ipykernel_6565/10187138.py:1: DtypeWarning: Columns (7) have mixed types. Specify dtype option on import or set low_memory=False.\n",
      "  DF = pd.read_csv('data.tsv',sep = '\\t',on_bad_lines='skip') #(GeeksforGeeks, 2021)\n"
     ]
    },
    {
     "data": {
      "text/html": [
       "<div>\n",
       "<style scoped>\n",
       "    .dataframe tbody tr th:only-of-type {\n",
       "        vertical-align: middle;\n",
       "    }\n",
       "\n",
       "    .dataframe tbody tr th {\n",
       "        vertical-align: top;\n",
       "    }\n",
       "\n",
       "    .dataframe thead th {\n",
       "        text-align: right;\n",
       "    }\n",
       "</style>\n",
       "<table border=\"1\" class=\"dataframe\">\n",
       "  <thead>\n",
       "    <tr style=\"text-align: right;\">\n",
       "      <th></th>\n",
       "      <th>marketplace</th>\n",
       "      <th>customer_id</th>\n",
       "      <th>review_id</th>\n",
       "      <th>product_id</th>\n",
       "      <th>product_parent</th>\n",
       "      <th>product_title</th>\n",
       "      <th>product_category</th>\n",
       "      <th>star_rating</th>\n",
       "      <th>helpful_votes</th>\n",
       "      <th>total_votes</th>\n",
       "      <th>vine</th>\n",
       "      <th>verified_purchase</th>\n",
       "      <th>review_headline</th>\n",
       "      <th>review_body</th>\n",
       "      <th>review_date</th>\n",
       "    </tr>\n",
       "  </thead>\n",
       "  <tbody>\n",
       "    <tr>\n",
       "      <th>0</th>\n",
       "      <td>US</td>\n",
       "      <td>1797882</td>\n",
       "      <td>R3I2DHQBR577SS</td>\n",
       "      <td>B001ANOOOE</td>\n",
       "      <td>2102612</td>\n",
       "      <td>The Naked Bee Vitmin C Moisturizing Sunscreen ...</td>\n",
       "      <td>Beauty</td>\n",
       "      <td>5</td>\n",
       "      <td>0.0</td>\n",
       "      <td>0.0</td>\n",
       "      <td>N</td>\n",
       "      <td>Y</td>\n",
       "      <td>Five Stars</td>\n",
       "      <td>Love this, excellent sun block!!</td>\n",
       "      <td>2015-08-31</td>\n",
       "    </tr>\n",
       "    <tr>\n",
       "      <th>1</th>\n",
       "      <td>US</td>\n",
       "      <td>18381298</td>\n",
       "      <td>R1QNE9NQFJC2Y4</td>\n",
       "      <td>B0016J22EQ</td>\n",
       "      <td>106393691</td>\n",
       "      <td>Alba Botanica Sunless Tanning Lotion, 4 Ounce</td>\n",
       "      <td>Beauty</td>\n",
       "      <td>5</td>\n",
       "      <td>0.0</td>\n",
       "      <td>0.0</td>\n",
       "      <td>N</td>\n",
       "      <td>Y</td>\n",
       "      <td>Thank you Alba Bontanica!</td>\n",
       "      <td>The great thing about this cream is that it do...</td>\n",
       "      <td>2015-08-31</td>\n",
       "    </tr>\n",
       "    <tr>\n",
       "      <th>2</th>\n",
       "      <td>US</td>\n",
       "      <td>19242472</td>\n",
       "      <td>R3LIDG2Q4LJBAO</td>\n",
       "      <td>B00HU6UQAG</td>\n",
       "      <td>375449471</td>\n",
       "      <td>Elysee Infusion Skin Therapy Elixir, 2oz.</td>\n",
       "      <td>Beauty</td>\n",
       "      <td>5</td>\n",
       "      <td>0.0</td>\n",
       "      <td>0.0</td>\n",
       "      <td>N</td>\n",
       "      <td>Y</td>\n",
       "      <td>Five Stars</td>\n",
       "      <td>Great Product, I'm 65 years old and this is al...</td>\n",
       "      <td>2015-08-31</td>\n",
       "    </tr>\n",
       "  </tbody>\n",
       "</table>\n",
       "</div>"
      ],
      "text/plain": [
       "  marketplace  customer_id       review_id  product_id  product_parent  \\\n",
       "0          US      1797882  R3I2DHQBR577SS  B001ANOOOE         2102612   \n",
       "1          US     18381298  R1QNE9NQFJC2Y4  B0016J22EQ       106393691   \n",
       "2          US     19242472  R3LIDG2Q4LJBAO  B00HU6UQAG       375449471   \n",
       "\n",
       "                                       product_title product_category  \\\n",
       "0  The Naked Bee Vitmin C Moisturizing Sunscreen ...           Beauty   \n",
       "1      Alba Botanica Sunless Tanning Lotion, 4 Ounce           Beauty   \n",
       "2          Elysee Infusion Skin Therapy Elixir, 2oz.           Beauty   \n",
       "\n",
       "  star_rating  helpful_votes  total_votes vine verified_purchase  \\\n",
       "0           5            0.0          0.0    N                 Y   \n",
       "1           5            0.0          0.0    N                 Y   \n",
       "2           5            0.0          0.0    N                 Y   \n",
       "\n",
       "             review_headline  \\\n",
       "0                 Five Stars   \n",
       "1  Thank you Alba Bontanica!   \n",
       "2                 Five Stars   \n",
       "\n",
       "                                         review_body review_date  \n",
       "0                   Love this, excellent sun block!!  2015-08-31  \n",
       "1  The great thing about this cream is that it do...  2015-08-31  \n",
       "2  Great Product, I'm 65 years old and this is al...  2015-08-31  "
      ]
     },
     "metadata": {},
     "output_type": "display_data"
    }
   ],
   "source": [
    "DF = pd.read_csv('data.tsv',sep = '\\t',on_bad_lines='skip') #(GeeksforGeeks, 2021)\n",
    "display(DF.head(3))"
   ]
  },
  {
   "cell_type": "markdown",
   "metadata": {
    "id": "Vb56q32Vix7Z"
   },
   "source": [
    "## Keep Reviews and Ratings"
   ]
  },
  {
   "cell_type": "markdown",
   "metadata": {},
   "source": [
    "As we are dealing with only the reviews and their ratings, we keep the <b>star_rating</b> and <b>review_body</b> columns"
   ]
  },
  {
   "cell_type": "code",
   "execution_count": 5,
   "metadata": {
    "colab": {
     "base_uri": "https://localhost:8080/",
     "height": 459
    },
    "executionInfo": {
     "elapsed": 389,
     "status": "ok",
     "timestamp": 1674262304029,
     "user": {
      "displayName": "ayushi amin",
      "userId": "06248665986512062761"
     },
     "user_tz": 480
    },
    "id": "FKj6jPZ_ix7Z",
    "outputId": "70dc00d9-ef87-41f4-ca4e-64511058aee4"
   },
   "outputs": [
    {
     "data": {
      "text/html": [
       "<div>\n",
       "<style scoped>\n",
       "    .dataframe tbody tr th:only-of-type {\n",
       "        vertical-align: middle;\n",
       "    }\n",
       "\n",
       "    .dataframe tbody tr th {\n",
       "        vertical-align: top;\n",
       "    }\n",
       "\n",
       "    .dataframe thead th {\n",
       "        text-align: right;\n",
       "    }\n",
       "</style>\n",
       "<table border=\"1\" class=\"dataframe\">\n",
       "  <thead>\n",
       "    <tr style=\"text-align: right;\">\n",
       "      <th></th>\n",
       "      <th>star_rating</th>\n",
       "      <th>review_body</th>\n",
       "    </tr>\n",
       "  </thead>\n",
       "  <tbody>\n",
       "    <tr>\n",
       "      <th>0</th>\n",
       "      <td>5</td>\n",
       "      <td>Love this, excellent sun block!!</td>\n",
       "    </tr>\n",
       "    <tr>\n",
       "      <th>1</th>\n",
       "      <td>5</td>\n",
       "      <td>The great thing about this cream is that it do...</td>\n",
       "    </tr>\n",
       "    <tr>\n",
       "      <th>2</th>\n",
       "      <td>5</td>\n",
       "      <td>Great Product, I'm 65 years old and this is al...</td>\n",
       "    </tr>\n",
       "    <tr>\n",
       "      <th>3</th>\n",
       "      <td>5</td>\n",
       "      <td>I use them as shower caps &amp; conditioning caps....</td>\n",
       "    </tr>\n",
       "    <tr>\n",
       "      <th>4</th>\n",
       "      <td>5</td>\n",
       "      <td>This is my go-to daily sunblock. It leaves no ...</td>\n",
       "    </tr>\n",
       "    <tr>\n",
       "      <th>...</th>\n",
       "      <td>...</td>\n",
       "      <td>...</td>\n",
       "    </tr>\n",
       "    <tr>\n",
       "      <th>5094302</th>\n",
       "      <td>5</td>\n",
       "      <td>After watching my Dad struggle with his scisso...</td>\n",
       "    </tr>\n",
       "    <tr>\n",
       "      <th>5094303</th>\n",
       "      <td>3</td>\n",
       "      <td>Like most sound machines, the sounds choices a...</td>\n",
       "    </tr>\n",
       "    <tr>\n",
       "      <th>5094304</th>\n",
       "      <td>5</td>\n",
       "      <td>I bought this product because it indicated 30 ...</td>\n",
       "    </tr>\n",
       "    <tr>\n",
       "      <th>5094305</th>\n",
       "      <td>5</td>\n",
       "      <td>We have used Oral-B products for 15 years; thi...</td>\n",
       "    </tr>\n",
       "    <tr>\n",
       "      <th>5094306</th>\n",
       "      <td>5</td>\n",
       "      <td>I love this toothbrush. It's easy to use, and ...</td>\n",
       "    </tr>\n",
       "  </tbody>\n",
       "</table>\n",
       "<p>5094307 rows × 2 columns</p>\n",
       "</div>"
      ],
      "text/plain": [
       "        star_rating                                        review_body\n",
       "0                 5                   Love this, excellent sun block!!\n",
       "1                 5  The great thing about this cream is that it do...\n",
       "2                 5  Great Product, I'm 65 years old and this is al...\n",
       "3                 5  I use them as shower caps & conditioning caps....\n",
       "4                 5  This is my go-to daily sunblock. It leaves no ...\n",
       "...             ...                                                ...\n",
       "5094302           5  After watching my Dad struggle with his scisso...\n",
       "5094303           3  Like most sound machines, the sounds choices a...\n",
       "5094304           5  I bought this product because it indicated 30 ...\n",
       "5094305           5  We have used Oral-B products for 15 years; thi...\n",
       "5094306           5  I love this toothbrush. It's easy to use, and ...\n",
       "\n",
       "[5094307 rows x 2 columns]"
      ]
     },
     "metadata": {},
     "output_type": "display_data"
    },
    {
     "name": "stdout",
     "output_type": "stream",
     "text": [
      "(5094307, 15)\n",
      "(5094307, 2)\n"
     ]
    }
   ],
   "source": [
    "input_DF = DF[['star_rating', 'review_body']]\n",
    "display(input_DF)\n",
    "print(DF.shape)\n",
    "print(input_DF.shape)"
   ]
  },
  {
   "cell_type": "markdown",
   "metadata": {
    "id": "gvn7y73bsXGt"
   },
   "source": [
    "### Checking for Null Values"
   ]
  },
  {
   "cell_type": "code",
   "execution_count": 6,
   "metadata": {
    "colab": {
     "base_uri": "https://localhost:8080/"
    },
    "executionInfo": {
     "elapsed": 159,
     "status": "ok",
     "timestamp": 1674262304705,
     "user": {
      "displayName": "ayushi amin",
      "userId": "06248665986512062761"
     },
     "user_tz": 480
    },
    "id": "Fillxf0wsB-q",
    "outputId": "7c4b73d6-0661-43cb-972c-e7729161184a"
   },
   "outputs": [
    {
     "data": {
      "text/plain": [
       "star_rating     10\n",
       "review_body    400\n",
       "dtype: int64"
      ]
     },
     "execution_count": 6,
     "metadata": {},
     "output_type": "execute_result"
    }
   ],
   "source": [
    "input_DF.isnull().sum()"
   ]
  },
  {
   "cell_type": "markdown",
   "metadata": {},
   "source": [
    "<b>From the above output, it can be seen there are null values present in the dataset. Hence, we drop them</b>"
   ]
  },
  {
   "cell_type": "code",
   "execution_count": 7,
   "metadata": {
    "executionInfo": {
     "elapsed": 1444,
     "status": "ok",
     "timestamp": 1674262306139,
     "user": {
      "displayName": "ayushi amin",
      "userId": "06248665986512062761"
     },
     "user_tz": 480
    },
    "id": "cpOl9XeRN9KZ"
   },
   "outputs": [],
   "source": [
    "#(bigbug, 2012)\n",
    "input_DF = input_DF[input_DF['review_body'].notna()]\n",
    "input_DF = input_DF[input_DF['star_rating'].notna()]"
   ]
  },
  {
   "cell_type": "code",
   "execution_count": 8,
   "metadata": {
    "colab": {
     "base_uri": "https://localhost:8080/"
    },
    "executionInfo": {
     "elapsed": 222,
     "status": "ok",
     "timestamp": 1674262306357,
     "user": {
      "displayName": "ayushi amin",
      "userId": "06248665986512062761"
     },
     "user_tz": 480
    },
    "id": "j53sZ-Ar7iIC",
    "outputId": "50132290-5d12-4f47-d409-04cf5b993ffb"
   },
   "outputs": [
    {
     "data": {
      "text/plain": [
       "5    2593882\n",
       "5     646780\n",
       "4     604826\n",
       "1     372518\n",
       "3     324086\n",
       "2     215740\n",
       "4     133668\n",
       "1      82510\n",
       "3      72674\n",
       "2      47223\n",
       "Name: star_rating, dtype: int64"
      ]
     },
     "execution_count": 8,
     "metadata": {},
     "output_type": "execute_result"
    }
   ],
   "source": [
    "input_DF['star_rating'].value_counts()"
   ]
  },
  {
   "cell_type": "markdown",
   "metadata": {
    "id": "9nYQkctAix7a"
   },
   "source": [
    " ## We form three classes and select 20000 reviews randomly from each class.\n",
    "\n"
   ]
  },
  {
   "cell_type": "code",
   "execution_count": 9,
   "metadata": {
    "executionInfo": {
     "elapsed": 3932,
     "status": "ok",
     "timestamp": 1674262310286,
     "user": {
      "displayName": "ayushi amin",
      "userId": "06248665986512062761"
     },
     "user_tz": 480
    },
    "id": "vbnVi0J80agY"
   },
   "outputs": [],
   "source": [
    "#(GeeksforGeeks, 2021)\n",
    "input_DF.loc[(input_DF['star_rating'] == \"1\"),'star_rating'] = 1\n",
    "input_DF.loc[(input_DF['star_rating'] == 1),'star_rating'] = 1\n",
    "\n",
    "input_DF.loc[(input_DF['star_rating'] == \"2\"),'star_rating'] = 1\n",
    "input_DF.loc[(input_DF['star_rating'] == 2),'star_rating'] = 1\n",
    "\n",
    "input_DF.loc[(input_DF['star_rating'] == \"3\"),'star_rating'] = 2\n",
    "input_DF.loc[(input_DF['star_rating'] == 3),'star_rating'] = 2\n",
    "\n",
    "input_DF.loc[(input_DF['star_rating'] == \"4\"),'star_rating'] = 3\n",
    "input_DF.loc[(input_DF['star_rating'] == 4),'star_rating'] = 3\n",
    "\n",
    "input_DF.loc[(input_DF['star_rating'] == \"5\"),'star_rating'] = 3\n",
    "input_DF.loc[(input_DF['star_rating'] == 5),'star_rating'] = 3"
   ]
  },
  {
   "cell_type": "code",
   "execution_count": 10,
   "metadata": {
    "colab": {
     "base_uri": "https://localhost:8080/",
     "height": 424
    },
    "executionInfo": {
     "elapsed": 17,
     "status": "ok",
     "timestamp": 1674262310286,
     "user": {
      "displayName": "ayushi amin",
      "userId": "06248665986512062761"
     },
     "user_tz": 480
    },
    "id": "38SttadQ4mbu",
    "outputId": "4654f29e-7556-4303-af5c-96e2ed13d847"
   },
   "outputs": [
    {
     "data": {
      "text/html": [
       "<div>\n",
       "<style scoped>\n",
       "    .dataframe tbody tr th:only-of-type {\n",
       "        vertical-align: middle;\n",
       "    }\n",
       "\n",
       "    .dataframe tbody tr th {\n",
       "        vertical-align: top;\n",
       "    }\n",
       "\n",
       "    .dataframe thead th {\n",
       "        text-align: right;\n",
       "    }\n",
       "</style>\n",
       "<table border=\"1\" class=\"dataframe\">\n",
       "  <thead>\n",
       "    <tr style=\"text-align: right;\">\n",
       "      <th></th>\n",
       "      <th>star_rating</th>\n",
       "      <th>review_body</th>\n",
       "    </tr>\n",
       "  </thead>\n",
       "  <tbody>\n",
       "    <tr>\n",
       "      <th>0</th>\n",
       "      <td>3</td>\n",
       "      <td>Love this, excellent sun block!!</td>\n",
       "    </tr>\n",
       "    <tr>\n",
       "      <th>1</th>\n",
       "      <td>3</td>\n",
       "      <td>The great thing about this cream is that it do...</td>\n",
       "    </tr>\n",
       "    <tr>\n",
       "      <th>2</th>\n",
       "      <td>3</td>\n",
       "      <td>Great Product, I'm 65 years old and this is al...</td>\n",
       "    </tr>\n",
       "    <tr>\n",
       "      <th>3</th>\n",
       "      <td>3</td>\n",
       "      <td>I use them as shower caps &amp; conditioning caps....</td>\n",
       "    </tr>\n",
       "    <tr>\n",
       "      <th>4</th>\n",
       "      <td>3</td>\n",
       "      <td>This is my go-to daily sunblock. It leaves no ...</td>\n",
       "    </tr>\n",
       "    <tr>\n",
       "      <th>...</th>\n",
       "      <td>...</td>\n",
       "      <td>...</td>\n",
       "    </tr>\n",
       "    <tr>\n",
       "      <th>5094302</th>\n",
       "      <td>3</td>\n",
       "      <td>After watching my Dad struggle with his scisso...</td>\n",
       "    </tr>\n",
       "    <tr>\n",
       "      <th>5094303</th>\n",
       "      <td>2</td>\n",
       "      <td>Like most sound machines, the sounds choices a...</td>\n",
       "    </tr>\n",
       "    <tr>\n",
       "      <th>5094304</th>\n",
       "      <td>3</td>\n",
       "      <td>I bought this product because it indicated 30 ...</td>\n",
       "    </tr>\n",
       "    <tr>\n",
       "      <th>5094305</th>\n",
       "      <td>3</td>\n",
       "      <td>We have used Oral-B products for 15 years; thi...</td>\n",
       "    </tr>\n",
       "    <tr>\n",
       "      <th>5094306</th>\n",
       "      <td>3</td>\n",
       "      <td>I love this toothbrush. It's easy to use, and ...</td>\n",
       "    </tr>\n",
       "  </tbody>\n",
       "</table>\n",
       "<p>5093907 rows × 2 columns</p>\n",
       "</div>"
      ],
      "text/plain": [
       "        star_rating                                        review_body\n",
       "0                 3                   Love this, excellent sun block!!\n",
       "1                 3  The great thing about this cream is that it do...\n",
       "2                 3  Great Product, I'm 65 years old and this is al...\n",
       "3                 3  I use them as shower caps & conditioning caps....\n",
       "4                 3  This is my go-to daily sunblock. It leaves no ...\n",
       "...             ...                                                ...\n",
       "5094302           3  After watching my Dad struggle with his scisso...\n",
       "5094303           2  Like most sound machines, the sounds choices a...\n",
       "5094304           3  I bought this product because it indicated 30 ...\n",
       "5094305           3  We have used Oral-B products for 15 years; thi...\n",
       "5094306           3  I love this toothbrush. It's easy to use, and ...\n",
       "\n",
       "[5093907 rows x 2 columns]"
      ]
     },
     "metadata": {},
     "output_type": "display_data"
    }
   ],
   "source": [
    "display(input_DF)"
   ]
  },
  {
   "cell_type": "code",
   "execution_count": 11,
   "metadata": {
    "colab": {
     "base_uri": "https://localhost:8080/"
    },
    "executionInfo": {
     "elapsed": 375,
     "status": "ok",
     "timestamp": 1674262310645,
     "user": {
      "displayName": "ayushi amin",
      "userId": "06248665986512062761"
     },
     "user_tz": 480
    },
    "id": "KBo6f7k19YJ6",
    "outputId": "21d4d664-d184-4ed5-f130-a6f7f66d2b3c"
   },
   "outputs": [
    {
     "data": {
      "text/plain": [
       "3    3979156\n",
       "1     717991\n",
       "2     396760\n",
       "Name: star_rating, dtype: int64"
      ]
     },
     "execution_count": 11,
     "metadata": {},
     "output_type": "execute_result"
    }
   ],
   "source": [
    "input_DF['star_rating'].value_counts()"
   ]
  },
  {
   "cell_type": "code",
   "execution_count": 12,
   "metadata": {
    "executionInfo": {
     "elapsed": 1874,
     "status": "ok",
     "timestamp": 1674262312514,
     "user": {
      "displayName": "ayushi amin",
      "userId": "06248665986512062761"
     },
     "user_tz": 480
    },
    "id": "pORjiPJT0can"
   },
   "outputs": [],
   "source": [
    "#(Skytowner.com, 2022)\n",
    "random_DF_1 = input_DF.query(\"star_rating == 1\").sample(n=20000)\n",
    "random_DF_2 = input_DF.query(\"star_rating == 2\").sample(n=20000)\n",
    "random_DF_3 = input_DF.query(\"star_rating == 3\").sample(n=20000)"
   ]
  },
  {
   "cell_type": "code",
   "execution_count": 13,
   "metadata": {
    "colab": {
     "base_uri": "https://localhost:8080/",
     "height": 396
    },
    "executionInfo": {
     "elapsed": 23,
     "status": "ok",
     "timestamp": 1674262312514,
     "user": {
      "displayName": "ayushi amin",
      "userId": "06248665986512062761"
     },
     "user_tz": 480
    },
    "id": "OX4lZPTE0_bw",
    "outputId": "31951635-f415-496b-9e87-d3b3f9fe1ca5"
   },
   "outputs": [
    {
     "data": {
      "text/html": [
       "<div>\n",
       "<style scoped>\n",
       "    .dataframe tbody tr th:only-of-type {\n",
       "        vertical-align: middle;\n",
       "    }\n",
       "\n",
       "    .dataframe tbody tr th {\n",
       "        vertical-align: top;\n",
       "    }\n",
       "\n",
       "    .dataframe thead th {\n",
       "        text-align: right;\n",
       "    }\n",
       "</style>\n",
       "<table border=\"1\" class=\"dataframe\">\n",
       "  <thead>\n",
       "    <tr style=\"text-align: right;\">\n",
       "      <th></th>\n",
       "      <th>star_rating</th>\n",
       "      <th>review_body</th>\n",
       "    </tr>\n",
       "  </thead>\n",
       "  <tbody>\n",
       "    <tr>\n",
       "      <th>1639266</th>\n",
       "      <td>1</td>\n",
       "      <td>Super tiny and the brush is TERRIBLE.</td>\n",
       "    </tr>\n",
       "    <tr>\n",
       "      <th>4478838</th>\n",
       "      <td>1</td>\n",
       "      <td>They are very pretty...but smell sooo terrible...</td>\n",
       "    </tr>\n",
       "    <tr>\n",
       "      <th>2206070</th>\n",
       "      <td>1</td>\n",
       "      <td>I have to press too hard and go over the same ...</td>\n",
       "    </tr>\n",
       "  </tbody>\n",
       "</table>\n",
       "</div>"
      ],
      "text/plain": [
       "        star_rating                                        review_body\n",
       "1639266           1              Super tiny and the brush is TERRIBLE.\n",
       "4478838           1  They are very pretty...but smell sooo terrible...\n",
       "2206070           1  I have to press too hard and go over the same ..."
      ]
     },
     "metadata": {},
     "output_type": "display_data"
    },
    {
     "data": {
      "text/html": [
       "<div>\n",
       "<style scoped>\n",
       "    .dataframe tbody tr th:only-of-type {\n",
       "        vertical-align: middle;\n",
       "    }\n",
       "\n",
       "    .dataframe tbody tr th {\n",
       "        vertical-align: top;\n",
       "    }\n",
       "\n",
       "    .dataframe thead th {\n",
       "        text-align: right;\n",
       "    }\n",
       "</style>\n",
       "<table border=\"1\" class=\"dataframe\">\n",
       "  <thead>\n",
       "    <tr style=\"text-align: right;\">\n",
       "      <th></th>\n",
       "      <th>star_rating</th>\n",
       "      <th>review_body</th>\n",
       "    </tr>\n",
       "  </thead>\n",
       "  <tbody>\n",
       "    <tr>\n",
       "      <th>2494305</th>\n",
       "      <td>2</td>\n",
       "      <td>It is very subtle,,,but this seems weak--almos...</td>\n",
       "    </tr>\n",
       "    <tr>\n",
       "      <th>628209</th>\n",
       "      <td>2</td>\n",
       "      <td>this does not stay, I gave it away.</td>\n",
       "    </tr>\n",
       "    <tr>\n",
       "      <th>2253759</th>\n",
       "      <td>2</td>\n",
       "      <td>The knob at the top turns easily and the brist...</td>\n",
       "    </tr>\n",
       "  </tbody>\n",
       "</table>\n",
       "</div>"
      ],
      "text/plain": [
       "        star_rating                                        review_body\n",
       "2494305           2  It is very subtle,,,but this seems weak--almos...\n",
       "628209            2                this does not stay, I gave it away.\n",
       "2253759           2  The knob at the top turns easily and the brist..."
      ]
     },
     "metadata": {},
     "output_type": "display_data"
    },
    {
     "data": {
      "text/html": [
       "<div>\n",
       "<style scoped>\n",
       "    .dataframe tbody tr th:only-of-type {\n",
       "        vertical-align: middle;\n",
       "    }\n",
       "\n",
       "    .dataframe tbody tr th {\n",
       "        vertical-align: top;\n",
       "    }\n",
       "\n",
       "    .dataframe thead th {\n",
       "        text-align: right;\n",
       "    }\n",
       "</style>\n",
       "<table border=\"1\" class=\"dataframe\">\n",
       "  <thead>\n",
       "    <tr style=\"text-align: right;\">\n",
       "      <th></th>\n",
       "      <th>star_rating</th>\n",
       "      <th>review_body</th>\n",
       "    </tr>\n",
       "  </thead>\n",
       "  <tbody>\n",
       "    <tr>\n",
       "      <th>4525109</th>\n",
       "      <td>3</td>\n",
       "      <td>I don't know what the difference is, but I've ...</td>\n",
       "    </tr>\n",
       "    <tr>\n",
       "      <th>487889</th>\n",
       "      <td>3</td>\n",
       "      <td>Stunning color.  Very dark deep blue with gree...</td>\n",
       "    </tr>\n",
       "    <tr>\n",
       "      <th>2229587</th>\n",
       "      <td>3</td>\n",
       "      <td>I used this for the first time last night. My ...</td>\n",
       "    </tr>\n",
       "  </tbody>\n",
       "</table>\n",
       "</div>"
      ],
      "text/plain": [
       "        star_rating                                        review_body\n",
       "4525109           3  I don't know what the difference is, but I've ...\n",
       "487889            3  Stunning color.  Very dark deep blue with gree...\n",
       "2229587           3  I used this for the first time last night. My ..."
      ]
     },
     "metadata": {},
     "output_type": "display_data"
    }
   ],
   "source": [
    "display(random_DF_1.head(3))\n",
    "display(random_DF_2.head(3))\n",
    "display(random_DF_3.head(3))"
   ]
  },
  {
   "cell_type": "code",
   "execution_count": 14,
   "metadata": {
    "executionInfo": {
     "elapsed": 20,
     "status": "ok",
     "timestamp": 1674262312515,
     "user": {
      "displayName": "ayushi amin",
      "userId": "06248665986512062761"
     },
     "user_tz": 480
    },
    "id": "w1KHWKhL1NnW"
   },
   "outputs": [],
   "source": [
    "#(Pydata.org, 2016)\n",
    "random_frames = [random_DF_1, random_DF_2, random_DF_3]"
   ]
  },
  {
   "cell_type": "code",
   "execution_count": 15,
   "metadata": {
    "colab": {
     "base_uri": "https://localhost:8080/",
     "height": 424
    },
    "executionInfo": {
     "elapsed": 19,
     "status": "ok",
     "timestamp": 1674262312515,
     "user": {
      "displayName": "ayushi amin",
      "userId": "06248665986512062761"
     },
     "user_tz": 480
    },
    "id": "NhCxc3fN2RAE",
    "outputId": "a8daee0d-e35b-4dbf-a43b-7989762570be"
   },
   "outputs": [
    {
     "data": {
      "text/html": [
       "<div>\n",
       "<style scoped>\n",
       "    .dataframe tbody tr th:only-of-type {\n",
       "        vertical-align: middle;\n",
       "    }\n",
       "\n",
       "    .dataframe tbody tr th {\n",
       "        vertical-align: top;\n",
       "    }\n",
       "\n",
       "    .dataframe thead th {\n",
       "        text-align: right;\n",
       "    }\n",
       "</style>\n",
       "<table border=\"1\" class=\"dataframe\">\n",
       "  <thead>\n",
       "    <tr style=\"text-align: right;\">\n",
       "      <th></th>\n",
       "      <th>star_rating</th>\n",
       "      <th>review_body</th>\n",
       "    </tr>\n",
       "  </thead>\n",
       "  <tbody>\n",
       "    <tr>\n",
       "      <th>1639266</th>\n",
       "      <td>1</td>\n",
       "      <td>Super tiny and the brush is TERRIBLE.</td>\n",
       "    </tr>\n",
       "    <tr>\n",
       "      <th>4478838</th>\n",
       "      <td>1</td>\n",
       "      <td>They are very pretty...but smell sooo terrible...</td>\n",
       "    </tr>\n",
       "    <tr>\n",
       "      <th>2206070</th>\n",
       "      <td>1</td>\n",
       "      <td>I have to press too hard and go over the same ...</td>\n",
       "    </tr>\n",
       "    <tr>\n",
       "      <th>2919943</th>\n",
       "      <td>1</td>\n",
       "      <td>Despite taking over 3 weeks to receive, I fina...</td>\n",
       "    </tr>\n",
       "    <tr>\n",
       "      <th>2883305</th>\n",
       "      <td>1</td>\n",
       "      <td>This Item was not what the seller had describe...</td>\n",
       "    </tr>\n",
       "    <tr>\n",
       "      <th>...</th>\n",
       "      <td>...</td>\n",
       "      <td>...</td>\n",
       "    </tr>\n",
       "    <tr>\n",
       "      <th>564695</th>\n",
       "      <td>3</td>\n",
       "      <td>This is the first time I have used Mac product...</td>\n",
       "    </tr>\n",
       "    <tr>\n",
       "      <th>144732</th>\n",
       "      <td>3</td>\n",
       "      <td>[[VIDEOID:da7679178abcb98c18200181556aead2]] T...</td>\n",
       "    </tr>\n",
       "    <tr>\n",
       "      <th>2844440</th>\n",
       "      <td>3</td>\n",
       "      <td>I bought this hairbrush to replace one that's ...</td>\n",
       "    </tr>\n",
       "    <tr>\n",
       "      <th>4590975</th>\n",
       "      <td>3</td>\n",
       "      <td>I have trouble with itchy dry cracked heels, a...</td>\n",
       "    </tr>\n",
       "    <tr>\n",
       "      <th>2881702</th>\n",
       "      <td>3</td>\n",
       "      <td>I loved my Theodent toothpaste. It made my tee...</td>\n",
       "    </tr>\n",
       "  </tbody>\n",
       "</table>\n",
       "<p>60000 rows × 2 columns</p>\n",
       "</div>"
      ],
      "text/plain": [
       "        star_rating                                        review_body\n",
       "1639266           1              Super tiny and the brush is TERRIBLE.\n",
       "4478838           1  They are very pretty...but smell sooo terrible...\n",
       "2206070           1  I have to press too hard and go over the same ...\n",
       "2919943           1  Despite taking over 3 weeks to receive, I fina...\n",
       "2883305           1  This Item was not what the seller had describe...\n",
       "...             ...                                                ...\n",
       "564695            3  This is the first time I have used Mac product...\n",
       "144732            3  [[VIDEOID:da7679178abcb98c18200181556aead2]] T...\n",
       "2844440           3  I bought this hairbrush to replace one that's ...\n",
       "4590975           3  I have trouble with itchy dry cracked heels, a...\n",
       "2881702           3  I loved my Theodent toothpaste. It made my tee...\n",
       "\n",
       "[60000 rows x 2 columns]"
      ]
     },
     "metadata": {},
     "output_type": "display_data"
    }
   ],
   "source": [
    "#(Pydata.org, 2016)\n",
    "random_DF = pd.concat(random_frames)\n",
    "display(random_DF)"
   ]
  },
  {
   "cell_type": "markdown",
   "metadata": {},
   "source": [
    "<b>Shuffling the rows of the newly formed dataset</b>"
   ]
  },
  {
   "cell_type": "code",
   "execution_count": 16,
   "metadata": {
    "colab": {
     "base_uri": "https://localhost:8080/",
     "height": 424
    },
    "executionInfo": {
     "elapsed": 17,
     "status": "ok",
     "timestamp": 1674262312515,
     "user": {
      "displayName": "ayushi amin",
      "userId": "06248665986512062761"
     },
     "user_tz": 480
    },
    "id": "TLsfox4r24Z-",
    "outputId": "96950cef-69a1-4272-8a13-a1e1321d1b53"
   },
   "outputs": [
    {
     "data": {
      "text/html": [
       "<div>\n",
       "<style scoped>\n",
       "    .dataframe tbody tr th:only-of-type {\n",
       "        vertical-align: middle;\n",
       "    }\n",
       "\n",
       "    .dataframe tbody tr th {\n",
       "        vertical-align: top;\n",
       "    }\n",
       "\n",
       "    .dataframe thead th {\n",
       "        text-align: right;\n",
       "    }\n",
       "</style>\n",
       "<table border=\"1\" class=\"dataframe\">\n",
       "  <thead>\n",
       "    <tr style=\"text-align: right;\">\n",
       "      <th></th>\n",
       "      <th>star_rating</th>\n",
       "      <th>review_body</th>\n",
       "    </tr>\n",
       "  </thead>\n",
       "  <tbody>\n",
       "    <tr>\n",
       "      <th>4469770</th>\n",
       "      <td>1</td>\n",
       "      <td>I felt that this product was working well unti...</td>\n",
       "    </tr>\n",
       "    <tr>\n",
       "      <th>2315004</th>\n",
       "      <td>3</td>\n",
       "      <td>excellent</td>\n",
       "    </tr>\n",
       "    <tr>\n",
       "      <th>2519075</th>\n",
       "      <td>2</td>\n",
       "      <td>Products is great but it's just messy to prepa...</td>\n",
       "    </tr>\n",
       "    <tr>\n",
       "      <th>3722779</th>\n",
       "      <td>3</td>\n",
       "      <td>This wig is very cute. I like the color and th...</td>\n",
       "    </tr>\n",
       "    <tr>\n",
       "      <th>592325</th>\n",
       "      <td>3</td>\n",
       "      <td>Because of Blepharitis, an eye disease that at...</td>\n",
       "    </tr>\n",
       "    <tr>\n",
       "      <th>...</th>\n",
       "      <td>...</td>\n",
       "      <td>...</td>\n",
       "    </tr>\n",
       "    <tr>\n",
       "      <th>1772238</th>\n",
       "      <td>2</td>\n",
       "      <td>Very little product in the tube.</td>\n",
       "    </tr>\n",
       "    <tr>\n",
       "      <th>1287710</th>\n",
       "      <td>2</td>\n",
       "      <td>Good quality but don't put heat on them. I cur...</td>\n",
       "    </tr>\n",
       "    <tr>\n",
       "      <th>322500</th>\n",
       "      <td>2</td>\n",
       "      <td>This is a good trimmer. It does a really nice ...</td>\n",
       "    </tr>\n",
       "    <tr>\n",
       "      <th>2452677</th>\n",
       "      <td>2</td>\n",
       "      <td>Purchased this as a Father's Day gift for my h...</td>\n",
       "    </tr>\n",
       "    <tr>\n",
       "      <th>2971664</th>\n",
       "      <td>3</td>\n",
       "      <td>I've used this product for years and it really...</td>\n",
       "    </tr>\n",
       "  </tbody>\n",
       "</table>\n",
       "<p>60000 rows × 2 columns</p>\n",
       "</div>"
      ],
      "text/plain": [
       "        star_rating                                        review_body\n",
       "4469770           1  I felt that this product was working well unti...\n",
       "2315004           3                                          excellent\n",
       "2519075           2  Products is great but it's just messy to prepa...\n",
       "3722779           3  This wig is very cute. I like the color and th...\n",
       "592325            3  Because of Blepharitis, an eye disease that at...\n",
       "...             ...                                                ...\n",
       "1772238           2                   Very little product in the tube.\n",
       "1287710           2  Good quality but don't put heat on them. I cur...\n",
       "322500            2  This is a good trimmer. It does a really nice ...\n",
       "2452677           2  Purchased this as a Father's Day gift for my h...\n",
       "2971664           3  I've used this product for years and it really...\n",
       "\n",
       "[60000 rows x 2 columns]"
      ]
     },
     "metadata": {},
     "output_type": "display_data"
    }
   ],
   "source": [
    "#(GeeksforGeeks, 2020)\n",
    "random_DF = random_DF.sample(frac = 1)\n",
    "display(random_DF)"
   ]
  },
  {
   "cell_type": "code",
   "execution_count": 17,
   "metadata": {
    "colab": {
     "base_uri": "https://localhost:8080/"
    },
    "executionInfo": {
     "elapsed": 262,
     "status": "ok",
     "timestamp": 1674262312761,
     "user": {
      "displayName": "ayushi amin",
      "userId": "06248665986512062761"
     },
     "user_tz": 480
    },
    "id": "MOMfJqdy3AYF",
    "outputId": "e040b549-8ee0-41c2-85eb-2dd2baa50d35"
   },
   "outputs": [
    {
     "data": {
      "text/plain": [
       "1    20000\n",
       "3    20000\n",
       "2    20000\n",
       "Name: star_rating, dtype: int64"
      ]
     },
     "execution_count": 17,
     "metadata": {},
     "output_type": "execute_result"
    }
   ],
   "source": [
    "random_DF['star_rating'].value_counts()"
   ]
  },
  {
   "cell_type": "code",
   "execution_count": 18,
   "metadata": {
    "colab": {
     "base_uri": "https://localhost:8080/",
     "height": 161
    },
    "executionInfo": {
     "elapsed": 12,
     "status": "ok",
     "timestamp": 1674262312762,
     "user": {
      "displayName": "ayushi amin",
      "userId": "06248665986512062761"
     },
     "user_tz": 480
    },
    "id": "BCUGxodYBwm6",
    "outputId": "ba5321dc-3fd0-4ba6-f51c-c4638c9034e0"
   },
   "outputs": [
    {
     "name": "stdout",
     "output_type": "stream",
     "text": [
      "<class 'pandas.core.frame.DataFrame'>\n"
     ]
    },
    {
     "data": {
      "text/html": [
       "<div>\n",
       "<style scoped>\n",
       "    .dataframe tbody tr th:only-of-type {\n",
       "        vertical-align: middle;\n",
       "    }\n",
       "\n",
       "    .dataframe tbody tr th {\n",
       "        vertical-align: top;\n",
       "    }\n",
       "\n",
       "    .dataframe thead th {\n",
       "        text-align: right;\n",
       "    }\n",
       "</style>\n",
       "<table border=\"1\" class=\"dataframe\">\n",
       "  <thead>\n",
       "    <tr style=\"text-align: right;\">\n",
       "      <th></th>\n",
       "      <th>star_rating</th>\n",
       "      <th>review_body</th>\n",
       "    </tr>\n",
       "  </thead>\n",
       "  <tbody>\n",
       "    <tr>\n",
       "      <th>4469770</th>\n",
       "      <td>1</td>\n",
       "      <td>I felt that this product was working well unti...</td>\n",
       "    </tr>\n",
       "    <tr>\n",
       "      <th>2315004</th>\n",
       "      <td>3</td>\n",
       "      <td>excellent</td>\n",
       "    </tr>\n",
       "    <tr>\n",
       "      <th>2519075</th>\n",
       "      <td>2</td>\n",
       "      <td>Products is great but it's just messy to prepa...</td>\n",
       "    </tr>\n",
       "  </tbody>\n",
       "</table>\n",
       "</div>"
      ],
      "text/plain": [
       "        star_rating                                        review_body\n",
       "4469770           1  I felt that this product was working well unti...\n",
       "2315004           3                                          excellent\n",
       "2519075           2  Products is great but it's just messy to prepa..."
      ]
     },
     "metadata": {},
     "output_type": "display_data"
    }
   ],
   "source": [
    "print(type(random_DF))\n",
    "display(random_DF.head(3))"
   ]
  },
  {
   "cell_type": "code",
   "execution_count": 19,
   "metadata": {
    "colab": {
     "base_uri": "https://localhost:8080/"
    },
    "executionInfo": {
     "elapsed": 9,
     "status": "ok",
     "timestamp": 1674262312762,
     "user": {
      "displayName": "ayushi amin",
      "userId": "06248665986512062761"
     },
     "user_tz": 480
    },
    "id": "zeecHLfjNmZa",
    "outputId": "a6a6c375-c53b-4d4d-d39c-294805206c66"
   },
   "outputs": [
    {
     "data": {
      "text/plain": [
       "star_rating    0\n",
       "review_body    0\n",
       "dtype: int64"
      ]
     },
     "execution_count": 19,
     "metadata": {},
     "output_type": "execute_result"
    }
   ],
   "source": [
    "random_DF.isnull().sum()"
   ]
  },
  {
   "cell_type": "code",
   "execution_count": 20,
   "metadata": {
    "colab": {
     "base_uri": "https://localhost:8080/"
    },
    "executionInfo": {
     "elapsed": 8,
     "status": "ok",
     "timestamp": 1674262312762,
     "user": {
      "displayName": "ayushi amin",
      "userId": "06248665986512062761"
     },
     "user_tz": 480
    },
    "id": "AQtwHBzhN4mg",
    "outputId": "e02e1bd1-dbf0-4bdc-fad6-509b27493d89"
   },
   "outputs": [
    {
     "data": {
      "text/plain": [
       "1    20000\n",
       "3    20000\n",
       "2    20000\n",
       "Name: star_rating, dtype: int64"
      ]
     },
     "execution_count": 20,
     "metadata": {},
     "output_type": "execute_result"
    }
   ],
   "source": [
    "random_DF['star_rating'].value_counts()"
   ]
  },
  {
   "cell_type": "markdown",
   "metadata": {
    "id": "tSZCCz3Rix7b"
   },
   "source": [
    "# Data Cleaning\n",
    "\n"
   ]
  },
  {
   "cell_type": "code",
   "execution_count": 21,
   "metadata": {
    "executionInfo": {
     "elapsed": 8,
     "status": "ok",
     "timestamp": 1674262312763,
     "user": {
      "displayName": "ayushi amin",
      "userId": "06248665986512062761"
     },
     "user_tz": 480
    },
    "id": "wb4NR__XvODQ"
   },
   "outputs": [],
   "source": [
    "#(Datasnips.com, 2023)\n",
    "avg_len_before_clean = random_DF['review_body'].str.len().mean()"
   ]
  },
  {
   "cell_type": "markdown",
   "metadata": {},
   "source": [
    "As observed in the below function clean_reviews(), the regex patterns are substituted with “ “ or “” to remove the specific pattern.\n",
    "\n",
    "* Since the dataset was found to contain several HTML tags and characters such as <>, the <b>BeatifulSoup</b> library was used to get rid of all the HTML embeddings in the dataset.\n",
    "* To help in text pre-processing, all the reviews were converted into lowercase to ensure the reviews were in one case.\n",
    "* Contractions like “don’t” were expanded into “do not”. To help with this procedure, the library <b>contractions</b> were used. As part of the data-cleaning process, contractions were expanded as machines interpret “don’t” and “do not” as two different terms. Furthermore, expanding contractions helps in reducing dimensionality.\n",
    "* <b>-</b> -> Replaces\"-\" with \" \". Done to modify hyphenated words like “pre-processing” to “pre processing”\n",
    "* The regex pattern <b>[^a-z ]*</b> removes anything that is not a character from a-z or a space.\n",
    "* The regex pattern <b>(https?\\w*)|(www\\w*)</b> removes URLs.\n",
    "* The <b>strip()</b> function helps in eliminating any extra spaces.\n",
    "* By the end of the function, if the review contains no alphabetical characters, then replace it with an empty string. After data cleaning, the empty review bodies will be dropped."
   ]
  },
  {
   "cell_type": "code",
   "execution_count": 22,
   "metadata": {
    "executionInfo": {
     "elapsed": 7,
     "status": "ok",
     "timestamp": 1674262312763,
     "user": {
      "displayName": "ayushi amin",
      "userId": "06248665986512062761"
     },
     "user_tz": 480
    },
    "id": "_G0MzHg3Di-f"
   },
   "outputs": [],
   "source": [
    "def clean_reviews(text):\n",
    "    \n",
    "    #Remove HTML Characters\n",
    "    soup = BeautifulSoup(text)\n",
    "    text = soup.get_text() #(B, 2013)\n",
    "\n",
    "    #Convert to lowercase\n",
    "    text = text.lower().strip()\n",
    "\n",
    "    #Expand contractions\n",
    "    text = contractions.fix(text)\n",
    "\n",
    "    #Remove hyphnes\n",
    "    regHyphen = re.compile('-') #(KDecker, 2014)\n",
    "    text = regHyphen.sub(\" \",text)\n",
    "\n",
    "    #Remove if its not an alphabetical character or space\n",
    "    regNonAlpha = re.compile('[^a-z ]*') #(KDecker, 2014)\n",
    "    text = regNonAlpha.sub(\"\",text) \n",
    "\n",
    "    #Remove URLs\n",
    "    regURLs = re.compile('(https?\\w*)|(www\\w*)') #(KDecker, 2014)\n",
    "    text = regURLs.sub(\"\",text)\n",
    "\n",
    "    #Remove extra spaces\n",
    "    text = text.strip()\n",
    "\n",
    "    if re.search(\"[a-z]\", text): \n",
    "        return text\n",
    "    else: \n",
    "        return \"\""
   ]
  },
  {
   "cell_type": "code",
   "execution_count": 23,
   "metadata": {
    "colab": {
     "base_uri": "https://localhost:8080/",
     "height": 515
    },
    "executionInfo": {
     "elapsed": 20539,
     "status": "ok",
     "timestamp": 1674262333295,
     "user": {
      "displayName": "ayushi amin",
      "userId": "06248665986512062761"
     },
     "user_tz": 480
    },
    "id": "hChOOO23ix7b",
    "outputId": "423ae107-e419-4900-ae57-3b65f17ec850"
   },
   "outputs": [
    {
     "name": "stderr",
     "output_type": "stream",
     "text": [
      "/opt/homebrew/lib/python3.10/site-packages/bs4/__init__.py:435: MarkupResemblesLocatorWarning: The input looks more like a filename than markup. You may want to open this file and pass the filehandle into Beautiful Soup.\n",
      "  warnings.warn(\n",
      "/opt/homebrew/lib/python3.10/site-packages/bs4/__init__.py:404: MarkupResemblesLocatorWarning: The input looks more like a URL than markup. You may want to use an HTTP client like requests to get the document behind the URL, and feed that document to Beautiful Soup.\n",
      "  warnings.warn(\n"
     ]
    },
    {
     "data": {
      "text/html": [
       "<div>\n",
       "<style scoped>\n",
       "    .dataframe tbody tr th:only-of-type {\n",
       "        vertical-align: middle;\n",
       "    }\n",
       "\n",
       "    .dataframe tbody tr th {\n",
       "        vertical-align: top;\n",
       "    }\n",
       "\n",
       "    .dataframe thead th {\n",
       "        text-align: right;\n",
       "    }\n",
       "</style>\n",
       "<table border=\"1\" class=\"dataframe\">\n",
       "  <thead>\n",
       "    <tr style=\"text-align: right;\">\n",
       "      <th></th>\n",
       "      <th>star_rating</th>\n",
       "      <th>review_body</th>\n",
       "      <th>Review_Cleaned</th>\n",
       "    </tr>\n",
       "  </thead>\n",
       "  <tbody>\n",
       "    <tr>\n",
       "      <th>4469770</th>\n",
       "      <td>1</td>\n",
       "      <td>I felt that this product was working well unti...</td>\n",
       "      <td>i felt that this product was working well unti...</td>\n",
       "    </tr>\n",
       "    <tr>\n",
       "      <th>2315004</th>\n",
       "      <td>3</td>\n",
       "      <td>excellent</td>\n",
       "      <td>excellent</td>\n",
       "    </tr>\n",
       "    <tr>\n",
       "      <th>2519075</th>\n",
       "      <td>2</td>\n",
       "      <td>Products is great but it's just messy to prepa...</td>\n",
       "      <td>products is great but it is just messy to prep...</td>\n",
       "    </tr>\n",
       "    <tr>\n",
       "      <th>3722779</th>\n",
       "      <td>3</td>\n",
       "      <td>This wig is very cute. I like the color and th...</td>\n",
       "      <td>this wig is very cute i like the color and the...</td>\n",
       "    </tr>\n",
       "    <tr>\n",
       "      <th>592325</th>\n",
       "      <td>3</td>\n",
       "      <td>Because of Blepharitis, an eye disease that at...</td>\n",
       "      <td>because of blepharitis an eye disease that at ...</td>\n",
       "    </tr>\n",
       "    <tr>\n",
       "      <th>...</th>\n",
       "      <td>...</td>\n",
       "      <td>...</td>\n",
       "      <td>...</td>\n",
       "    </tr>\n",
       "    <tr>\n",
       "      <th>1772238</th>\n",
       "      <td>2</td>\n",
       "      <td>Very little product in the tube.</td>\n",
       "      <td>very little product in the tube</td>\n",
       "    </tr>\n",
       "    <tr>\n",
       "      <th>1287710</th>\n",
       "      <td>2</td>\n",
       "      <td>Good quality but don't put heat on them. I cur...</td>\n",
       "      <td>good quality but do not put heat on them i cur...</td>\n",
       "    </tr>\n",
       "    <tr>\n",
       "      <th>322500</th>\n",
       "      <td>2</td>\n",
       "      <td>This is a good trimmer. It does a really nice ...</td>\n",
       "      <td>this is a good trimmer it does a really nice j...</td>\n",
       "    </tr>\n",
       "    <tr>\n",
       "      <th>2452677</th>\n",
       "      <td>2</td>\n",
       "      <td>Purchased this as a Father's Day gift for my h...</td>\n",
       "      <td>purchased this as a fathers day gift for my hu...</td>\n",
       "    </tr>\n",
       "    <tr>\n",
       "      <th>2971664</th>\n",
       "      <td>3</td>\n",
       "      <td>I've used this product for years and it really...</td>\n",
       "      <td>i have used this product for years and it real...</td>\n",
       "    </tr>\n",
       "  </tbody>\n",
       "</table>\n",
       "<p>59961 rows × 3 columns</p>\n",
       "</div>"
      ],
      "text/plain": [
       "        star_rating                                        review_body  \\\n",
       "4469770           1  I felt that this product was working well unti...   \n",
       "2315004           3                                          excellent   \n",
       "2519075           2  Products is great but it's just messy to prepa...   \n",
       "3722779           3  This wig is very cute. I like the color and th...   \n",
       "592325            3  Because of Blepharitis, an eye disease that at...   \n",
       "...             ...                                                ...   \n",
       "1772238           2                   Very little product in the tube.   \n",
       "1287710           2  Good quality but don't put heat on them. I cur...   \n",
       "322500            2  This is a good trimmer. It does a really nice ...   \n",
       "2452677           2  Purchased this as a Father's Day gift for my h...   \n",
       "2971664           3  I've used this product for years and it really...   \n",
       "\n",
       "                                            Review_Cleaned  \n",
       "4469770  i felt that this product was working well unti...  \n",
       "2315004                                          excellent  \n",
       "2519075  products is great but it is just messy to prep...  \n",
       "3722779  this wig is very cute i like the color and the...  \n",
       "592325   because of blepharitis an eye disease that at ...  \n",
       "...                                                    ...  \n",
       "1772238                    very little product in the tube  \n",
       "1287710  good quality but do not put heat on them i cur...  \n",
       "322500   this is a good trimmer it does a really nice j...  \n",
       "2452677  purchased this as a fathers day gift for my hu...  \n",
       "2971664  i have used this product for years and it real...  \n",
       "\n",
       "[59961 rows x 3 columns]"
      ]
     },
     "metadata": {},
     "output_type": "display_data"
    }
   ],
   "source": [
    "random_DF[\"Review_Cleaned\"] = random_DF[\"review_body\"].apply(lambda review: clean_reviews(review))\n",
    "random_DF = random_DF[random_DF[\"Review_Cleaned\"] != \"\"]\n",
    "\n",
    "display(random_DF)"
   ]
  },
  {
   "cell_type": "code",
   "execution_count": 24,
   "metadata": {},
   "outputs": [],
   "source": [
    " #(Datasnips.com, 2023)\n",
    "avg_len_after_clean = random_DF['Review_Cleaned'].str.len().mean()"
   ]
  },
  {
   "cell_type": "markdown",
   "metadata": {
    "id": "NNr9V72six7b"
   },
   "source": [
    "# Pre-processing"
   ]
  },
  {
   "cell_type": "code",
   "execution_count": 25,
   "metadata": {
    "executionInfo": {
     "elapsed": 3,
     "status": "ok",
     "timestamp": 1674262333296,
     "user": {
      "displayName": "ayushi amin",
      "userId": "06248665986512062761"
     },
     "user_tz": 480
    },
    "id": "397JuxKQmCO1"
   },
   "outputs": [],
   "source": [
    "#(Datasnips.com, 2023)\n",
    "avg_len_before_preprocess = random_DF['Review_Cleaned'].str.len().mean()"
   ]
  },
  {
   "cell_type": "code",
   "execution_count": 26,
   "metadata": {},
   "outputs": [],
   "source": [
    "random_DF = random_DF.drop([\"review_body\"], axis=1)"
   ]
  },
  {
   "cell_type": "markdown",
   "metadata": {
    "id": "9YxNEo0Gix7b"
   },
   "source": [
    "## remove the stop words "
   ]
  },
  {
   "cell_type": "markdown",
   "metadata": {},
   "source": [
    "As part of the pre-processing stage, stop words such as “not”, “the”, etc. were removed from the reviews so that while fitting the models, the models can only focus on important parts of the document."
   ]
  },
  {
   "cell_type": "markdown",
   "metadata": {},
   "source": [
    "* The NLTK library’s list of stop words was used and stored in a set to avoid any duplicate stop words.\n",
    "* The function <b>stopword_remover()</b> iterates through the list of words and checks if the current word is not a stopword. If it is a stopword, then discard it, else keep the word.\n",
    "* The updated list of words (which doesn’t contain any stopwords) is converted back into its original string format and the string is returned."
   ]
  },
  {
   "cell_type": "code",
   "execution_count": 27,
   "metadata": {
    "executionInfo": {
     "elapsed": 3,
     "status": "ok",
     "timestamp": 1674262333296,
     "user": {
      "displayName": "ayushi amin",
      "userId": "06248665986512062761"
     },
     "user_tz": 480
    },
    "id": "APDyMkChix7c"
   },
   "outputs": [],
   "source": [
    "from nltk.corpus import stopwords, wordnet\n",
    "\n",
    "stop_words_set = set(stopwords.words('english'))\n",
    "\n",
    "#(Mauro Di Pietro, 2020)\n",
    "def stopword_remover(text): \n",
    "    return \" \".join([word for word in text.split(\" \") if not word in stop_words_set])"
   ]
  },
  {
   "cell_type": "code",
   "execution_count": 28,
   "metadata": {
    "colab": {
     "base_uri": "https://localhost:8080/",
     "height": 424
    },
    "executionInfo": {
     "elapsed": 674,
     "status": "ok",
     "timestamp": 1674262333967,
     "user": {
      "displayName": "ayushi amin",
      "userId": "06248665986512062761"
     },
     "user_tz": 480
    },
    "id": "D3XtuYg8lFII",
    "outputId": "7fbf3b08-f749-420b-e07d-c08ab0265212"
   },
   "outputs": [
    {
     "data": {
      "text/html": [
       "<div>\n",
       "<style scoped>\n",
       "    .dataframe tbody tr th:only-of-type {\n",
       "        vertical-align: middle;\n",
       "    }\n",
       "\n",
       "    .dataframe tbody tr th {\n",
       "        vertical-align: top;\n",
       "    }\n",
       "\n",
       "    .dataframe thead th {\n",
       "        text-align: right;\n",
       "    }\n",
       "</style>\n",
       "<table border=\"1\" class=\"dataframe\">\n",
       "  <thead>\n",
       "    <tr style=\"text-align: right;\">\n",
       "      <th></th>\n",
       "      <th>star_rating</th>\n",
       "      <th>Review_Cleaned</th>\n",
       "      <th>Review_Body</th>\n",
       "    </tr>\n",
       "  </thead>\n",
       "  <tbody>\n",
       "    <tr>\n",
       "      <th>4469770</th>\n",
       "      <td>1</td>\n",
       "      <td>i felt that this product was working well unti...</td>\n",
       "      <td>felt product working well plastic cracked top ...</td>\n",
       "    </tr>\n",
       "    <tr>\n",
       "      <th>2315004</th>\n",
       "      <td>3</td>\n",
       "      <td>excellent</td>\n",
       "      <td>excellent</td>\n",
       "    </tr>\n",
       "    <tr>\n",
       "      <th>2519075</th>\n",
       "      <td>2</td>\n",
       "      <td>products is great but it is just messy to prep...</td>\n",
       "      <td>products great messy prepare mix works rather ...</td>\n",
       "    </tr>\n",
       "    <tr>\n",
       "      <th>3722779</th>\n",
       "      <td>3</td>\n",
       "      <td>this wig is very cute i like the color and the...</td>\n",
       "      <td>wig cute like color wig packaged well delivere...</td>\n",
       "    </tr>\n",
       "    <tr>\n",
       "      <th>592325</th>\n",
       "      <td>3</td>\n",
       "      <td>because of blepharitis an eye disease that at ...</td>\n",
       "      <td>blepharitis eye disease times noticeable times...</td>\n",
       "    </tr>\n",
       "    <tr>\n",
       "      <th>...</th>\n",
       "      <td>...</td>\n",
       "      <td>...</td>\n",
       "      <td>...</td>\n",
       "    </tr>\n",
       "    <tr>\n",
       "      <th>1772238</th>\n",
       "      <td>2</td>\n",
       "      <td>very little product in the tube</td>\n",
       "      <td>little product tube</td>\n",
       "    </tr>\n",
       "    <tr>\n",
       "      <th>1287710</th>\n",
       "      <td>2</td>\n",
       "      <td>good quality but do not put heat on them i cur...</td>\n",
       "      <td>good quality put heat curled ends blend better...</td>\n",
       "    </tr>\n",
       "    <tr>\n",
       "      <th>322500</th>\n",
       "      <td>2</td>\n",
       "      <td>this is a good trimmer it does a really nice j...</td>\n",
       "      <td>good trimmer really nice job cutting thick hai...</td>\n",
       "    </tr>\n",
       "    <tr>\n",
       "      <th>2452677</th>\n",
       "      <td>2</td>\n",
       "      <td>purchased this as a fathers day gift for my hu...</td>\n",
       "      <td>purchased fathers day gift husband hit  mirror...</td>\n",
       "    </tr>\n",
       "    <tr>\n",
       "      <th>2971664</th>\n",
       "      <td>3</td>\n",
       "      <td>i have used this product for years and it real...</td>\n",
       "      <td>used product years really cuts sensitivity muc...</td>\n",
       "    </tr>\n",
       "  </tbody>\n",
       "</table>\n",
       "<p>59961 rows × 3 columns</p>\n",
       "</div>"
      ],
      "text/plain": [
       "        star_rating                                     Review_Cleaned  \\\n",
       "4469770           1  i felt that this product was working well unti...   \n",
       "2315004           3                                          excellent   \n",
       "2519075           2  products is great but it is just messy to prep...   \n",
       "3722779           3  this wig is very cute i like the color and the...   \n",
       "592325            3  because of blepharitis an eye disease that at ...   \n",
       "...             ...                                                ...   \n",
       "1772238           2                    very little product in the tube   \n",
       "1287710           2  good quality but do not put heat on them i cur...   \n",
       "322500            2  this is a good trimmer it does a really nice j...   \n",
       "2452677           2  purchased this as a fathers day gift for my hu...   \n",
       "2971664           3  i have used this product for years and it real...   \n",
       "\n",
       "                                               Review_Body  \n",
       "4469770  felt product working well plastic cracked top ...  \n",
       "2315004                                          excellent  \n",
       "2519075  products great messy prepare mix works rather ...  \n",
       "3722779  wig cute like color wig packaged well delivere...  \n",
       "592325   blepharitis eye disease times noticeable times...  \n",
       "...                                                    ...  \n",
       "1772238                                little product tube  \n",
       "1287710  good quality put heat curled ends blend better...  \n",
       "322500   good trimmer really nice job cutting thick hai...  \n",
       "2452677  purchased fathers day gift husband hit  mirror...  \n",
       "2971664  used product years really cuts sensitivity muc...  \n",
       "\n",
       "[59961 rows x 3 columns]"
      ]
     },
     "metadata": {},
     "output_type": "display_data"
    }
   ],
   "source": [
    "random_DF[\"Review_Body\"] = random_DF[\"Review_Cleaned\"].apply(lambda review: stopword_remover(review))\n",
    "display(random_DF)"
   ]
  },
  {
   "cell_type": "markdown",
   "metadata": {
    "id": "IPg0IGHRix7c"
   },
   "source": [
    "## perform lemmatization  "
   ]
  },
  {
   "cell_type": "markdown",
   "metadata": {},
   "source": [
    "* <b>get_pos_tag()</b> -> Using NLTK’s pos_tag, this function is used for getting the respective POS tag for a given word.\n",
    "* <b>pos_tag_recognizer()</b> -> This function is used for recognizing the POS tag that is recognized by the lemmatizer. {‘N’: Noun, ‘V’: Verb, ‘R’: Adverb, ‘J’: Adjective}\n",
    "* <b>lemmatize()</b> -> This function operates on a list of words, lemmatizes the words, and converts the updated list back into a string. The updated string (review body) is then returned."
   ]
  },
  {
   "cell_type": "code",
   "execution_count": 29,
   "metadata": {
    "executionInfo": {
     "elapsed": 3,
     "status": "ok",
     "timestamp": 1674262333968,
     "user": {
      "displayName": "ayushi amin",
      "userId": "06248665986512062761"
     },
     "user_tz": 480
    },
    "id": "DXy3A2Cr6ltM"
   },
   "outputs": [],
   "source": [
    "#(Machinelearningplus.com, 2018)\n",
    "def get_pos_tag(tokens):\n",
    "    return [nltk.tag.pos_tag([word])[0] for word in tokens]"
   ]
  },
  {
   "cell_type": "code",
   "execution_count": 30,
   "metadata": {
    "executionInfo": {
     "elapsed": 4,
     "status": "ok",
     "timestamp": 1674262333968,
     "user": {
      "displayName": "ayushi amin",
      "userId": "06248665986512062761"
     },
     "user_tz": 480
    },
    "id": "20OxXDmOv48J"
   },
   "outputs": [],
   "source": [
    "#(Machinelearningplus.com, 2018)\n",
    "def pos_tag_recognizer(tag):\n",
    "    if tag.startswith(\"N\"):\n",
    "        return wordnet.NOUN\n",
    "    elif tag.startswith(\"V\"):\n",
    "        return wordnet.VERB\n",
    "    elif tag.startswith(\"R\"):\n",
    "        return wordnet.ADV\n",
    "    elif tag.startswith(\"J\"):\n",
    "        return wordnet.ADJ\n",
    "    else:\n",
    "        return wordnet.NOUN"
   ]
  },
  {
   "cell_type": "code",
   "execution_count": 31,
   "metadata": {
    "executionInfo": {
     "elapsed": 3,
     "status": "ok",
     "timestamp": 1674262333968,
     "user": {
      "displayName": "ayushi amin",
      "userId": "06248665986512062761"
     },
     "user_tz": 480
    },
    "id": "H7Pno0Rrix7c"
   },
   "outputs": [],
   "source": [
    "from nltk.stem import WordNetLemmatizer\n",
    "\n",
    "def lemmatize_word(word_list):\n",
    "    word_pos_tagged = get_pos_tag(word_list)\n",
    "    \n",
    "    #(Machinelearningplus.com, 2018)\n",
    "    return \" \".join([WordNetLemmatizer().lemmatize(word, pos_tag_recognizer(tag)) for (word, tag) in word_pos_tagged]) "
   ]
  },
  {
   "cell_type": "code",
   "execution_count": 32,
   "metadata": {
    "colab": {
     "base_uri": "https://localhost:8080/",
     "height": 424
    },
    "executionInfo": {
     "elapsed": 251393,
     "status": "ok",
     "timestamp": 1674262585358,
     "user": {
      "displayName": "ayushi amin",
      "userId": "06248665986512062761"
     },
     "user_tz": 480
    },
    "id": "kOpoQcFEur01",
    "outputId": "a310479f-55ea-4009-86b4-8ef89debd653"
   },
   "outputs": [
    {
     "data": {
      "text/html": [
       "<div>\n",
       "<style scoped>\n",
       "    .dataframe tbody tr th:only-of-type {\n",
       "        vertical-align: middle;\n",
       "    }\n",
       "\n",
       "    .dataframe tbody tr th {\n",
       "        vertical-align: top;\n",
       "    }\n",
       "\n",
       "    .dataframe thead th {\n",
       "        text-align: right;\n",
       "    }\n",
       "</style>\n",
       "<table border=\"1\" class=\"dataframe\">\n",
       "  <thead>\n",
       "    <tr style=\"text-align: right;\">\n",
       "      <th></th>\n",
       "      <th>star_rating</th>\n",
       "      <th>Review_Cleaned</th>\n",
       "      <th>Review_Body</th>\n",
       "    </tr>\n",
       "  </thead>\n",
       "  <tbody>\n",
       "    <tr>\n",
       "      <th>4469770</th>\n",
       "      <td>1</td>\n",
       "      <td>i felt that this product was working well unti...</td>\n",
       "      <td>felt product work well plastic crack top conne...</td>\n",
       "    </tr>\n",
       "    <tr>\n",
       "      <th>2315004</th>\n",
       "      <td>3</td>\n",
       "      <td>excellent</td>\n",
       "      <td>excellent</td>\n",
       "    </tr>\n",
       "    <tr>\n",
       "      <th>2519075</th>\n",
       "      <td>2</td>\n",
       "      <td>products is great but it is just messy to prep...</td>\n",
       "      <td>product great messy prepare mix work rather so...</td>\n",
       "    </tr>\n",
       "    <tr>\n",
       "      <th>3722779</th>\n",
       "      <td>3</td>\n",
       "      <td>this wig is very cute i like the color and the...</td>\n",
       "      <td>wig cute like color wig package well deliver s...</td>\n",
       "    </tr>\n",
       "    <tr>\n",
       "      <th>592325</th>\n",
       "      <td>3</td>\n",
       "      <td>because of blepharitis an eye disease that at ...</td>\n",
       "      <td>blepharitis eye disease time noticeable time r...</td>\n",
       "    </tr>\n",
       "    <tr>\n",
       "      <th>...</th>\n",
       "      <td>...</td>\n",
       "      <td>...</td>\n",
       "      <td>...</td>\n",
       "    </tr>\n",
       "    <tr>\n",
       "      <th>1772238</th>\n",
       "      <td>2</td>\n",
       "      <td>very little product in the tube</td>\n",
       "      <td>little product tube</td>\n",
       "    </tr>\n",
       "    <tr>\n",
       "      <th>1287710</th>\n",
       "      <td>2</td>\n",
       "      <td>good quality but do not put heat on them i cur...</td>\n",
       "      <td>good quality put heat curl end blend well hair...</td>\n",
       "    </tr>\n",
       "    <tr>\n",
       "      <th>322500</th>\n",
       "      <td>2</td>\n",
       "      <td>this is a good trimmer it does a really nice j...</td>\n",
       "      <td>good trimmer really nice job cut thick hair co...</td>\n",
       "    </tr>\n",
       "    <tr>\n",
       "      <th>2452677</th>\n",
       "      <td>2</td>\n",
       "      <td>purchased this as a fathers day gift for my hu...</td>\n",
       "      <td>purchase father day gift husband hit mirror fo...</td>\n",
       "    </tr>\n",
       "    <tr>\n",
       "      <th>2971664</th>\n",
       "      <td>3</td>\n",
       "      <td>i have used this product for years and it real...</td>\n",
       "      <td>use product year really cut sensitivity much w...</td>\n",
       "    </tr>\n",
       "  </tbody>\n",
       "</table>\n",
       "<p>59928 rows × 3 columns</p>\n",
       "</div>"
      ],
      "text/plain": [
       "        star_rating                                     Review_Cleaned  \\\n",
       "4469770           1  i felt that this product was working well unti...   \n",
       "2315004           3                                          excellent   \n",
       "2519075           2  products is great but it is just messy to prep...   \n",
       "3722779           3  this wig is very cute i like the color and the...   \n",
       "592325            3  because of blepharitis an eye disease that at ...   \n",
       "...             ...                                                ...   \n",
       "1772238           2                    very little product in the tube   \n",
       "1287710           2  good quality but do not put heat on them i cur...   \n",
       "322500            2  this is a good trimmer it does a really nice j...   \n",
       "2452677           2  purchased this as a fathers day gift for my hu...   \n",
       "2971664           3  i have used this product for years and it real...   \n",
       "\n",
       "                                               Review_Body  \n",
       "4469770  felt product work well plastic crack top conne...  \n",
       "2315004                                          excellent  \n",
       "2519075  product great messy prepare mix work rather so...  \n",
       "3722779  wig cute like color wig package well deliver s...  \n",
       "592325   blepharitis eye disease time noticeable time r...  \n",
       "...                                                    ...  \n",
       "1772238                                little product tube  \n",
       "1287710  good quality put heat curl end blend well hair...  \n",
       "322500   good trimmer really nice job cut thick hair co...  \n",
       "2452677  purchase father day gift husband hit mirror fo...  \n",
       "2971664  use product year really cut sensitivity much w...  \n",
       "\n",
       "[59928 rows x 3 columns]"
      ]
     },
     "metadata": {},
     "output_type": "display_data"
    }
   ],
   "source": [
    "#(Machinelearningplus.com, 2018)\n",
    "random_DF[\"Review_Body\"] = random_DF[\"Review_Body\"].apply(lambda review: lemmatize_word(nltk.word_tokenize(review)))\n",
    "random_DF = random_DF[random_DF[\"Review_Body\"] != \"\"]\n",
    "display(random_DF)"
   ]
  },
  {
   "cell_type": "code",
   "execution_count": 33,
   "metadata": {},
   "outputs": [],
   "source": [
    "#(Datasnips.com, 2023)\n",
    "avg_len_after_preprocess = random_DF['Review_Body'].str.len().mean()"
   ]
  },
  {
   "cell_type": "markdown",
   "metadata": {
    "id": "AEN11PoDix7c"
   },
   "source": [
    "# TF-IDF Feature Extraction"
   ]
  },
  {
   "cell_type": "markdown",
   "metadata": {},
   "source": [
    "* As part of the feature extraction process, the Bag of Words method “TF-IDF” was chosen. \n",
    "* For the parameter <b>ngram_range</b>, (1,3) was chosen, which involves a mixture of unigrams, bigrams, and trigrams. \n",
    "* It was observed that in comparison to using only bigrams/trigrams/unigrams alone, the combination of unigrams, bigrams, and trigrams led to better results with the ML models."
   ]
  },
  {
   "cell_type": "code",
   "execution_count": 34,
   "metadata": {
    "executionInfo": {
     "elapsed": 7,
     "status": "ok",
     "timestamp": 1674262585358,
     "user": {
      "displayName": "ayushi amin",
      "userId": "06248665986512062761"
     },
     "user_tz": 480
    },
    "id": "Sw147J7dpncu"
   },
   "outputs": [],
   "source": [
    "random_DF = random_DF.drop('Review_Cleaned', axis=1)"
   ]
  },
  {
   "cell_type": "code",
   "execution_count": 35,
   "metadata": {
    "colab": {
     "base_uri": "https://localhost:8080/",
     "height": 477
    },
    "executionInfo": {
     "elapsed": 7,
     "status": "ok",
     "timestamp": 1674262585358,
     "user": {
      "displayName": "ayushi amin",
      "userId": "06248665986512062761"
     },
     "user_tz": 480
    },
    "id": "1nVTRWitix7c",
    "outputId": "8ccd6977-bf5c-4dc4-f54e-df619a8e62c6"
   },
   "outputs": [
    {
     "name": "stdout",
     "output_type": "stream",
     "text": [
      "Size of dataset  (59928, 2)\n"
     ]
    },
    {
     "data": {
      "text/html": [
       "<div>\n",
       "<style scoped>\n",
       "    .dataframe tbody tr th:only-of-type {\n",
       "        vertical-align: middle;\n",
       "    }\n",
       "\n",
       "    .dataframe tbody tr th {\n",
       "        vertical-align: top;\n",
       "    }\n",
       "\n",
       "    .dataframe thead th {\n",
       "        text-align: right;\n",
       "    }\n",
       "</style>\n",
       "<table border=\"1\" class=\"dataframe\">\n",
       "  <thead>\n",
       "    <tr style=\"text-align: right;\">\n",
       "      <th></th>\n",
       "      <th>star_rating</th>\n",
       "      <th>Review_Body</th>\n",
       "    </tr>\n",
       "  </thead>\n",
       "  <tbody>\n",
       "    <tr>\n",
       "      <th>4469770</th>\n",
       "      <td>1</td>\n",
       "      <td>felt product work well plastic crack top conne...</td>\n",
       "    </tr>\n",
       "    <tr>\n",
       "      <th>2315004</th>\n",
       "      <td>3</td>\n",
       "      <td>excellent</td>\n",
       "    </tr>\n",
       "    <tr>\n",
       "      <th>2519075</th>\n",
       "      <td>2</td>\n",
       "      <td>product great messy prepare mix work rather so...</td>\n",
       "    </tr>\n",
       "    <tr>\n",
       "      <th>3722779</th>\n",
       "      <td>3</td>\n",
       "      <td>wig cute like color wig package well deliver s...</td>\n",
       "    </tr>\n",
       "    <tr>\n",
       "      <th>592325</th>\n",
       "      <td>3</td>\n",
       "      <td>blepharitis eye disease time noticeable time r...</td>\n",
       "    </tr>\n",
       "    <tr>\n",
       "      <th>...</th>\n",
       "      <td>...</td>\n",
       "      <td>...</td>\n",
       "    </tr>\n",
       "    <tr>\n",
       "      <th>1772238</th>\n",
       "      <td>2</td>\n",
       "      <td>little product tube</td>\n",
       "    </tr>\n",
       "    <tr>\n",
       "      <th>1287710</th>\n",
       "      <td>2</td>\n",
       "      <td>good quality put heat curl end blend well hair...</td>\n",
       "    </tr>\n",
       "    <tr>\n",
       "      <th>322500</th>\n",
       "      <td>2</td>\n",
       "      <td>good trimmer really nice job cut thick hair co...</td>\n",
       "    </tr>\n",
       "    <tr>\n",
       "      <th>2452677</th>\n",
       "      <td>2</td>\n",
       "      <td>purchase father day gift husband hit mirror fo...</td>\n",
       "    </tr>\n",
       "    <tr>\n",
       "      <th>2971664</th>\n",
       "      <td>3</td>\n",
       "      <td>use product year really cut sensitivity much w...</td>\n",
       "    </tr>\n",
       "  </tbody>\n",
       "</table>\n",
       "<p>59928 rows × 2 columns</p>\n",
       "</div>"
      ],
      "text/plain": [
       "        star_rating                                        Review_Body\n",
       "4469770           1  felt product work well plastic crack top conne...\n",
       "2315004           3                                          excellent\n",
       "2519075           2  product great messy prepare mix work rather so...\n",
       "3722779           3  wig cute like color wig package well deliver s...\n",
       "592325            3  blepharitis eye disease time noticeable time r...\n",
       "...             ...                                                ...\n",
       "1772238           2                                little product tube\n",
       "1287710           2  good quality put heat curl end blend well hair...\n",
       "322500            2  good trimmer really nice job cut thick hair co...\n",
       "2452677           2  purchase father day gift husband hit mirror fo...\n",
       "2971664           3  use product year really cut sensitivity much w...\n",
       "\n",
       "[59928 rows x 2 columns]"
      ]
     },
     "metadata": {},
     "output_type": "display_data"
    }
   ],
   "source": [
    "print(\"Size of dataset \",random_DF.shape)\n",
    "display(random_DF)"
   ]
  },
  {
   "cell_type": "code",
   "execution_count": 36,
   "metadata": {
    "colab": {
     "base_uri": "https://localhost:8080/"
    },
    "executionInfo": {
     "elapsed": 0,
     "status": "ok",
     "timestamp": 1674262717952,
     "user": {
      "displayName": "ayushi amin",
      "userId": "06248665986512062761"
     },
     "user_tz": 480
    },
    "id": "n2RyrlZTp8iU",
    "outputId": "2dda54cd-0af9-4d02-cde0-a2f7ab6816b2"
   },
   "outputs": [],
   "source": [
    "#(scikit-learn, 2023)\n",
    "tfidf_vectorizer = TfidfVectorizer(ngram_range=(1,3))\n",
    "random_tfidfvec = tfidf_vectorizer.fit_transform(random_DF['Review_Body'])"
   ]
  },
  {
   "cell_type": "code",
   "execution_count": 37,
   "metadata": {
    "colab": {
     "base_uri": "https://localhost:8080/",
     "height": 523
    },
    "executionInfo": {
     "elapsed": 24264,
     "status": "ok",
     "timestamp": 1674262747296,
     "user": {
      "displayName": "ayushi amin",
      "userId": "06248665986512062761"
     },
     "user_tz": 480
    },
    "id": "KiFu7IZnt7eO",
    "outputId": "176263b8-99c0-4c93-d98e-ddc68cfbb2e7"
   },
   "outputs": [
    {
     "data": {
      "text/html": [
       "<div>\n",
       "<style scoped>\n",
       "    .dataframe tbody tr th:only-of-type {\n",
       "        vertical-align: middle;\n",
       "    }\n",
       "\n",
       "    .dataframe tbody tr th {\n",
       "        vertical-align: top;\n",
       "    }\n",
       "\n",
       "    .dataframe thead th {\n",
       "        text-align: right;\n",
       "    }\n",
       "</style>\n",
       "<table border=\"1\" class=\"dataframe\">\n",
       "  <thead>\n",
       "    <tr style=\"text-align: right;\">\n",
       "      <th></th>\n",
       "      <th>aa</th>\n",
       "      <th>aa alkaline</th>\n",
       "      <th>aa alkaline battery</th>\n",
       "      <th>aa battery</th>\n",
       "      <th>aa battery battery</th>\n",
       "      <th>aa battery button</th>\n",
       "      <th>aa battery different</th>\n",
       "      <th>aa battery disappointed</th>\n",
       "      <th>aa battery drain</th>\n",
       "      <th>aa battery enough</th>\n",
       "      <th>...</th>\n",
       "      <th>zydot ultra</th>\n",
       "      <th>zydot ultra clean</th>\n",
       "      <th>zydot waste</th>\n",
       "      <th>zydot waste money</th>\n",
       "      <th>zyloo</th>\n",
       "      <th>zyloo product</th>\n",
       "      <th>zyloo product one</th>\n",
       "      <th>zzzquil</th>\n",
       "      <th>zzzquil product</th>\n",
       "      <th>zzzquil product free</th>\n",
       "    </tr>\n",
       "  </thead>\n",
       "  <tbody>\n",
       "    <tr>\n",
       "      <th>0</th>\n",
       "      <td>0.0</td>\n",
       "      <td>0.0</td>\n",
       "      <td>0.0</td>\n",
       "      <td>0.0</td>\n",
       "      <td>0.0</td>\n",
       "      <td>0.0</td>\n",
       "      <td>0.0</td>\n",
       "      <td>0.0</td>\n",
       "      <td>0.0</td>\n",
       "      <td>0.0</td>\n",
       "      <td>...</td>\n",
       "      <td>0.0</td>\n",
       "      <td>0.0</td>\n",
       "      <td>0.0</td>\n",
       "      <td>0.0</td>\n",
       "      <td>0.0</td>\n",
       "      <td>0.0</td>\n",
       "      <td>0.0</td>\n",
       "      <td>0.0</td>\n",
       "      <td>0.0</td>\n",
       "      <td>0.0</td>\n",
       "    </tr>\n",
       "    <tr>\n",
       "      <th>1</th>\n",
       "      <td>0.0</td>\n",
       "      <td>0.0</td>\n",
       "      <td>0.0</td>\n",
       "      <td>0.0</td>\n",
       "      <td>0.0</td>\n",
       "      <td>0.0</td>\n",
       "      <td>0.0</td>\n",
       "      <td>0.0</td>\n",
       "      <td>0.0</td>\n",
       "      <td>0.0</td>\n",
       "      <td>...</td>\n",
       "      <td>0.0</td>\n",
       "      <td>0.0</td>\n",
       "      <td>0.0</td>\n",
       "      <td>0.0</td>\n",
       "      <td>0.0</td>\n",
       "      <td>0.0</td>\n",
       "      <td>0.0</td>\n",
       "      <td>0.0</td>\n",
       "      <td>0.0</td>\n",
       "      <td>0.0</td>\n",
       "    </tr>\n",
       "    <tr>\n",
       "      <th>2</th>\n",
       "      <td>0.0</td>\n",
       "      <td>0.0</td>\n",
       "      <td>0.0</td>\n",
       "      <td>0.0</td>\n",
       "      <td>0.0</td>\n",
       "      <td>0.0</td>\n",
       "      <td>0.0</td>\n",
       "      <td>0.0</td>\n",
       "      <td>0.0</td>\n",
       "      <td>0.0</td>\n",
       "      <td>...</td>\n",
       "      <td>0.0</td>\n",
       "      <td>0.0</td>\n",
       "      <td>0.0</td>\n",
       "      <td>0.0</td>\n",
       "      <td>0.0</td>\n",
       "      <td>0.0</td>\n",
       "      <td>0.0</td>\n",
       "      <td>0.0</td>\n",
       "      <td>0.0</td>\n",
       "      <td>0.0</td>\n",
       "    </tr>\n",
       "    <tr>\n",
       "      <th>3</th>\n",
       "      <td>0.0</td>\n",
       "      <td>0.0</td>\n",
       "      <td>0.0</td>\n",
       "      <td>0.0</td>\n",
       "      <td>0.0</td>\n",
       "      <td>0.0</td>\n",
       "      <td>0.0</td>\n",
       "      <td>0.0</td>\n",
       "      <td>0.0</td>\n",
       "      <td>0.0</td>\n",
       "      <td>...</td>\n",
       "      <td>0.0</td>\n",
       "      <td>0.0</td>\n",
       "      <td>0.0</td>\n",
       "      <td>0.0</td>\n",
       "      <td>0.0</td>\n",
       "      <td>0.0</td>\n",
       "      <td>0.0</td>\n",
       "      <td>0.0</td>\n",
       "      <td>0.0</td>\n",
       "      <td>0.0</td>\n",
       "    </tr>\n",
       "    <tr>\n",
       "      <th>4</th>\n",
       "      <td>0.0</td>\n",
       "      <td>0.0</td>\n",
       "      <td>0.0</td>\n",
       "      <td>0.0</td>\n",
       "      <td>0.0</td>\n",
       "      <td>0.0</td>\n",
       "      <td>0.0</td>\n",
       "      <td>0.0</td>\n",
       "      <td>0.0</td>\n",
       "      <td>0.0</td>\n",
       "      <td>...</td>\n",
       "      <td>0.0</td>\n",
       "      <td>0.0</td>\n",
       "      <td>0.0</td>\n",
       "      <td>0.0</td>\n",
       "      <td>0.0</td>\n",
       "      <td>0.0</td>\n",
       "      <td>0.0</td>\n",
       "      <td>0.0</td>\n",
       "      <td>0.0</td>\n",
       "      <td>0.0</td>\n",
       "    </tr>\n",
       "    <tr>\n",
       "      <th>...</th>\n",
       "      <td>...</td>\n",
       "      <td>...</td>\n",
       "      <td>...</td>\n",
       "      <td>...</td>\n",
       "      <td>...</td>\n",
       "      <td>...</td>\n",
       "      <td>...</td>\n",
       "      <td>...</td>\n",
       "      <td>...</td>\n",
       "      <td>...</td>\n",
       "      <td>...</td>\n",
       "      <td>...</td>\n",
       "      <td>...</td>\n",
       "      <td>...</td>\n",
       "      <td>...</td>\n",
       "      <td>...</td>\n",
       "      <td>...</td>\n",
       "      <td>...</td>\n",
       "      <td>...</td>\n",
       "      <td>...</td>\n",
       "      <td>...</td>\n",
       "    </tr>\n",
       "    <tr>\n",
       "      <th>59923</th>\n",
       "      <td>0.0</td>\n",
       "      <td>0.0</td>\n",
       "      <td>0.0</td>\n",
       "      <td>0.0</td>\n",
       "      <td>0.0</td>\n",
       "      <td>0.0</td>\n",
       "      <td>0.0</td>\n",
       "      <td>0.0</td>\n",
       "      <td>0.0</td>\n",
       "      <td>0.0</td>\n",
       "      <td>...</td>\n",
       "      <td>0.0</td>\n",
       "      <td>0.0</td>\n",
       "      <td>0.0</td>\n",
       "      <td>0.0</td>\n",
       "      <td>0.0</td>\n",
       "      <td>0.0</td>\n",
       "      <td>0.0</td>\n",
       "      <td>0.0</td>\n",
       "      <td>0.0</td>\n",
       "      <td>0.0</td>\n",
       "    </tr>\n",
       "    <tr>\n",
       "      <th>59924</th>\n",
       "      <td>0.0</td>\n",
       "      <td>0.0</td>\n",
       "      <td>0.0</td>\n",
       "      <td>0.0</td>\n",
       "      <td>0.0</td>\n",
       "      <td>0.0</td>\n",
       "      <td>0.0</td>\n",
       "      <td>0.0</td>\n",
       "      <td>0.0</td>\n",
       "      <td>0.0</td>\n",
       "      <td>...</td>\n",
       "      <td>0.0</td>\n",
       "      <td>0.0</td>\n",
       "      <td>0.0</td>\n",
       "      <td>0.0</td>\n",
       "      <td>0.0</td>\n",
       "      <td>0.0</td>\n",
       "      <td>0.0</td>\n",
       "      <td>0.0</td>\n",
       "      <td>0.0</td>\n",
       "      <td>0.0</td>\n",
       "    </tr>\n",
       "    <tr>\n",
       "      <th>59925</th>\n",
       "      <td>0.0</td>\n",
       "      <td>0.0</td>\n",
       "      <td>0.0</td>\n",
       "      <td>0.0</td>\n",
       "      <td>0.0</td>\n",
       "      <td>0.0</td>\n",
       "      <td>0.0</td>\n",
       "      <td>0.0</td>\n",
       "      <td>0.0</td>\n",
       "      <td>0.0</td>\n",
       "      <td>...</td>\n",
       "      <td>0.0</td>\n",
       "      <td>0.0</td>\n",
       "      <td>0.0</td>\n",
       "      <td>0.0</td>\n",
       "      <td>0.0</td>\n",
       "      <td>0.0</td>\n",
       "      <td>0.0</td>\n",
       "      <td>0.0</td>\n",
       "      <td>0.0</td>\n",
       "      <td>0.0</td>\n",
       "    </tr>\n",
       "    <tr>\n",
       "      <th>59926</th>\n",
       "      <td>0.0</td>\n",
       "      <td>0.0</td>\n",
       "      <td>0.0</td>\n",
       "      <td>0.0</td>\n",
       "      <td>0.0</td>\n",
       "      <td>0.0</td>\n",
       "      <td>0.0</td>\n",
       "      <td>0.0</td>\n",
       "      <td>0.0</td>\n",
       "      <td>0.0</td>\n",
       "      <td>...</td>\n",
       "      <td>0.0</td>\n",
       "      <td>0.0</td>\n",
       "      <td>0.0</td>\n",
       "      <td>0.0</td>\n",
       "      <td>0.0</td>\n",
       "      <td>0.0</td>\n",
       "      <td>0.0</td>\n",
       "      <td>0.0</td>\n",
       "      <td>0.0</td>\n",
       "      <td>0.0</td>\n",
       "    </tr>\n",
       "    <tr>\n",
       "      <th>59927</th>\n",
       "      <td>0.0</td>\n",
       "      <td>0.0</td>\n",
       "      <td>0.0</td>\n",
       "      <td>0.0</td>\n",
       "      <td>0.0</td>\n",
       "      <td>0.0</td>\n",
       "      <td>0.0</td>\n",
       "      <td>0.0</td>\n",
       "      <td>0.0</td>\n",
       "      <td>0.0</td>\n",
       "      <td>...</td>\n",
       "      <td>0.0</td>\n",
       "      <td>0.0</td>\n",
       "      <td>0.0</td>\n",
       "      <td>0.0</td>\n",
       "      <td>0.0</td>\n",
       "      <td>0.0</td>\n",
       "      <td>0.0</td>\n",
       "      <td>0.0</td>\n",
       "      <td>0.0</td>\n",
       "      <td>0.0</td>\n",
       "    </tr>\n",
       "  </tbody>\n",
       "</table>\n",
       "<p>59928 rows × 1824299 columns</p>\n",
       "</div>"
      ],
      "text/plain": [
       "        aa  aa alkaline  aa alkaline battery  aa battery  aa battery battery  \\\n",
       "0      0.0          0.0                  0.0         0.0                 0.0   \n",
       "1      0.0          0.0                  0.0         0.0                 0.0   \n",
       "2      0.0          0.0                  0.0         0.0                 0.0   \n",
       "3      0.0          0.0                  0.0         0.0                 0.0   \n",
       "4      0.0          0.0                  0.0         0.0                 0.0   \n",
       "...    ...          ...                  ...         ...                 ...   \n",
       "59923  0.0          0.0                  0.0         0.0                 0.0   \n",
       "59924  0.0          0.0                  0.0         0.0                 0.0   \n",
       "59925  0.0          0.0                  0.0         0.0                 0.0   \n",
       "59926  0.0          0.0                  0.0         0.0                 0.0   \n",
       "59927  0.0          0.0                  0.0         0.0                 0.0   \n",
       "\n",
       "       aa battery button  aa battery different  aa battery disappointed  \\\n",
       "0                    0.0                   0.0                      0.0   \n",
       "1                    0.0                   0.0                      0.0   \n",
       "2                    0.0                   0.0                      0.0   \n",
       "3                    0.0                   0.0                      0.0   \n",
       "4                    0.0                   0.0                      0.0   \n",
       "...                  ...                   ...                      ...   \n",
       "59923                0.0                   0.0                      0.0   \n",
       "59924                0.0                   0.0                      0.0   \n",
       "59925                0.0                   0.0                      0.0   \n",
       "59926                0.0                   0.0                      0.0   \n",
       "59927                0.0                   0.0                      0.0   \n",
       "\n",
       "       aa battery drain  aa battery enough  ...  zydot ultra  \\\n",
       "0                   0.0                0.0  ...          0.0   \n",
       "1                   0.0                0.0  ...          0.0   \n",
       "2                   0.0                0.0  ...          0.0   \n",
       "3                   0.0                0.0  ...          0.0   \n",
       "4                   0.0                0.0  ...          0.0   \n",
       "...                 ...                ...  ...          ...   \n",
       "59923               0.0                0.0  ...          0.0   \n",
       "59924               0.0                0.0  ...          0.0   \n",
       "59925               0.0                0.0  ...          0.0   \n",
       "59926               0.0                0.0  ...          0.0   \n",
       "59927               0.0                0.0  ...          0.0   \n",
       "\n",
       "       zydot ultra clean  zydot waste  zydot waste money  zyloo  \\\n",
       "0                    0.0          0.0                0.0    0.0   \n",
       "1                    0.0          0.0                0.0    0.0   \n",
       "2                    0.0          0.0                0.0    0.0   \n",
       "3                    0.0          0.0                0.0    0.0   \n",
       "4                    0.0          0.0                0.0    0.0   \n",
       "...                  ...          ...                ...    ...   \n",
       "59923                0.0          0.0                0.0    0.0   \n",
       "59924                0.0          0.0                0.0    0.0   \n",
       "59925                0.0          0.0                0.0    0.0   \n",
       "59926                0.0          0.0                0.0    0.0   \n",
       "59927                0.0          0.0                0.0    0.0   \n",
       "\n",
       "       zyloo product  zyloo product one  zzzquil  zzzquil product  \\\n",
       "0                0.0                0.0      0.0              0.0   \n",
       "1                0.0                0.0      0.0              0.0   \n",
       "2                0.0                0.0      0.0              0.0   \n",
       "3                0.0                0.0      0.0              0.0   \n",
       "4                0.0                0.0      0.0              0.0   \n",
       "...              ...                ...      ...              ...   \n",
       "59923            0.0                0.0      0.0              0.0   \n",
       "59924            0.0                0.0      0.0              0.0   \n",
       "59925            0.0                0.0      0.0              0.0   \n",
       "59926            0.0                0.0      0.0              0.0   \n",
       "59927            0.0                0.0      0.0              0.0   \n",
       "\n",
       "       zzzquil product free  \n",
       "0                       0.0  \n",
       "1                       0.0  \n",
       "2                       0.0  \n",
       "3                       0.0  \n",
       "4                       0.0  \n",
       "...                     ...  \n",
       "59923                   0.0  \n",
       "59924                   0.0  \n",
       "59925                   0.0  \n",
       "59926                   0.0  \n",
       "59927                   0.0  \n",
       "\n",
       "[59928 rows x 1824299 columns]"
      ]
     },
     "metadata": {},
     "output_type": "display_data"
    }
   ],
   "source": [
    "#(lte__, 2017)\n",
    "tfidf_random_df = pd.DataFrame(random_tfidfvec.toarray(),\n",
    "    columns = tfidf_vectorizer.get_feature_names_out())\n",
    "display(tfidf_random_df)"
   ]
  },
  {
   "cell_type": "markdown",
   "metadata": {},
   "source": [
    "## Train-Test Split  "
   ]
  },
  {
   "cell_type": "code",
   "execution_count": 38,
   "metadata": {
    "executionInfo": {
     "elapsed": 197,
     "status": "ok",
     "timestamp": 1674262657876,
     "user": {
      "displayName": "ayushi amin",
      "userId": "06248665986512062761"
     },
     "user_tz": 480
    },
    "id": "55tiUduJxUrf"
   },
   "outputs": [],
   "source": [
    "X_train_text, X_test_text, y_train, y_test = train_test_split(\n",
    "    random_tfidfvec, \n",
    "    random_DF[\"star_rating\"], \n",
    "    test_size=0.2,\n",
    "    random_state=23,\n",
    "    stratify=random_DF[\"star_rating\"]\n",
    ")\n",
    "y_train=y_train.astype('int')\n",
    "y_test=y_test.astype('int')"
   ]
  },
  {
   "cell_type": "markdown",
   "metadata": {},
   "source": [
    "# Classifiers"
   ]
  },
  {
   "cell_type": "markdown",
   "metadata": {},
   "source": [
    "The below section shows the training and the results of the following classifiers:\n",
    "1. Perceptron\n",
    "2. Support Vector Machine (SVM)\n",
    "3. Logistic regression\n",
    "4. Naive Bayes (Multinomial)"
   ]
  },
  {
   "cell_type": "markdown",
   "metadata": {
    "id": "g_cNJfs_ix7c"
   },
   "source": [
    "# Perceptron"
   ]
  },
  {
   "cell_type": "code",
   "execution_count": 39,
   "metadata": {
    "executionInfo": {
     "elapsed": 9,
     "status": "aborted",
     "timestamp": 1674262590490,
     "user": {
      "displayName": "ayushi amin",
      "userId": "06248665986512062761"
     },
     "user_tz": 480
    },
    "id": "NLzVaDqBix7d"
   },
   "outputs": [],
   "source": [
    "from sklearn.datasets import load_digits\n",
    "from sklearn.linear_model import Perceptron\n",
    "from sklearn.model_selection import GridSearchCV"
   ]
  },
  {
   "cell_type": "code",
   "execution_count": 40,
   "metadata": {},
   "outputs": [],
   "source": [
    "from sklearn.metrics import accuracy_score, classification_report"
   ]
  },
  {
   "cell_type": "code",
   "execution_count": 41,
   "metadata": {},
   "outputs": [
    {
     "data": {
      "text/html": [
       "<style>#sk-container-id-1 {color: black;background-color: white;}#sk-container-id-1 pre{padding: 0;}#sk-container-id-1 div.sk-toggleable {background-color: white;}#sk-container-id-1 label.sk-toggleable__label {cursor: pointer;display: block;width: 100%;margin-bottom: 0;padding: 0.3em;box-sizing: border-box;text-align: center;}#sk-container-id-1 label.sk-toggleable__label-arrow:before {content: \"▸\";float: left;margin-right: 0.25em;color: #696969;}#sk-container-id-1 label.sk-toggleable__label-arrow:hover:before {color: black;}#sk-container-id-1 div.sk-estimator:hover label.sk-toggleable__label-arrow:before {color: black;}#sk-container-id-1 div.sk-toggleable__content {max-height: 0;max-width: 0;overflow: hidden;text-align: left;background-color: #f0f8ff;}#sk-container-id-1 div.sk-toggleable__content pre {margin: 0.2em;color: black;border-radius: 0.25em;background-color: #f0f8ff;}#sk-container-id-1 input.sk-toggleable__control:checked~div.sk-toggleable__content {max-height: 200px;max-width: 100%;overflow: auto;}#sk-container-id-1 input.sk-toggleable__control:checked~label.sk-toggleable__label-arrow:before {content: \"▾\";}#sk-container-id-1 div.sk-estimator input.sk-toggleable__control:checked~label.sk-toggleable__label {background-color: #d4ebff;}#sk-container-id-1 div.sk-label input.sk-toggleable__control:checked~label.sk-toggleable__label {background-color: #d4ebff;}#sk-container-id-1 input.sk-hidden--visually {border: 0;clip: rect(1px 1px 1px 1px);clip: rect(1px, 1px, 1px, 1px);height: 1px;margin: -1px;overflow: hidden;padding: 0;position: absolute;width: 1px;}#sk-container-id-1 div.sk-estimator {font-family: monospace;background-color: #f0f8ff;border: 1px dotted black;border-radius: 0.25em;box-sizing: border-box;margin-bottom: 0.5em;}#sk-container-id-1 div.sk-estimator:hover {background-color: #d4ebff;}#sk-container-id-1 div.sk-parallel-item::after {content: \"\";width: 100%;border-bottom: 1px solid gray;flex-grow: 1;}#sk-container-id-1 div.sk-label:hover label.sk-toggleable__label {background-color: #d4ebff;}#sk-container-id-1 div.sk-serial::before {content: \"\";position: absolute;border-left: 1px solid gray;box-sizing: border-box;top: 0;bottom: 0;left: 50%;z-index: 0;}#sk-container-id-1 div.sk-serial {display: flex;flex-direction: column;align-items: center;background-color: white;padding-right: 0.2em;padding-left: 0.2em;position: relative;}#sk-container-id-1 div.sk-item {position: relative;z-index: 1;}#sk-container-id-1 div.sk-parallel {display: flex;align-items: stretch;justify-content: center;background-color: white;position: relative;}#sk-container-id-1 div.sk-item::before, #sk-container-id-1 div.sk-parallel-item::before {content: \"\";position: absolute;border-left: 1px solid gray;box-sizing: border-box;top: 0;bottom: 0;left: 50%;z-index: -1;}#sk-container-id-1 div.sk-parallel-item {display: flex;flex-direction: column;z-index: 1;position: relative;background-color: white;}#sk-container-id-1 div.sk-parallel-item:first-child::after {align-self: flex-end;width: 50%;}#sk-container-id-1 div.sk-parallel-item:last-child::after {align-self: flex-start;width: 50%;}#sk-container-id-1 div.sk-parallel-item:only-child::after {width: 0;}#sk-container-id-1 div.sk-dashed-wrapped {border: 1px dashed gray;margin: 0 0.4em 0.5em 0.4em;box-sizing: border-box;padding-bottom: 0.4em;background-color: white;}#sk-container-id-1 div.sk-label label {font-family: monospace;font-weight: bold;display: inline-block;line-height: 1.2em;}#sk-container-id-1 div.sk-label-container {text-align: center;}#sk-container-id-1 div.sk-container {/* jupyter's `normalize.less` sets `[hidden] { display: none; }` but bootstrap.min.css set `[hidden] { display: none !important; }` so we also need the `!important` here to be able to override the default hidden behavior on the sphinx rendered scikit-learn.org. See: https://github.com/scikit-learn/scikit-learn/issues/21755 */display: inline-block !important;position: relative;}#sk-container-id-1 div.sk-text-repr-fallback {display: none;}</style><div id=\"sk-container-id-1\" class=\"sk-top-container\"><div class=\"sk-text-repr-fallback\"><pre>Perceptron()</pre><b>In a Jupyter environment, please rerun this cell to show the HTML representation or trust the notebook. <br />On GitHub, the HTML representation is unable to render, please try loading this page with nbviewer.org.</b></div><div class=\"sk-container\" hidden><div class=\"sk-item\"><div class=\"sk-estimator sk-toggleable\"><input class=\"sk-toggleable__control sk-hidden--visually\" id=\"sk-estimator-id-1\" type=\"checkbox\" checked><label for=\"sk-estimator-id-1\" class=\"sk-toggleable__label sk-toggleable__label-arrow\">Perceptron</label><div class=\"sk-toggleable__content\"><pre>Perceptron()</pre></div></div></div></div></div>"
      ],
      "text/plain": [
       "Perceptron()"
      ]
     },
     "execution_count": 41,
     "metadata": {},
     "output_type": "execute_result"
    }
   ],
   "source": [
    "perceptron_classifier = Perceptron(shuffle=True)\n",
    "perceptron_classifier.fit(X_train_text, y_train)"
   ]
  },
  {
   "cell_type": "code",
   "execution_count": 42,
   "metadata": {},
   "outputs": [
    {
     "name": "stdout",
     "output_type": "stream",
     "text": [
      "0.6571833806107125\n"
     ]
    }
   ],
   "source": [
    "#(Python-course.eu, 2022)\n",
    "predictions_perceptron_train = perceptron_classifier.predict(X_train_text)\n",
    "predictions_perceptron_test = perceptron_classifier.predict(X_test_text)\n",
    "\n",
    "print(accuracy_score(predictions_perceptron_test ,y_test))"
   ]
  },
  {
   "cell_type": "code",
   "execution_count": 43,
   "metadata": {},
   "outputs": [
    {
     "name": "stdout",
     "output_type": "stream",
     "text": [
      "              precision    recall  f1-score   support\n",
      "\n",
      "           1       0.67      0.66      0.67      3997\n",
      "           2       0.58      0.56      0.57      3995\n",
      "           3       0.72      0.75      0.73      3994\n",
      "\n",
      "    accuracy                           0.66     11986\n",
      "   macro avg       0.66      0.66      0.66     11986\n",
      "weighted avg       0.66      0.66      0.66     11986\n",
      "\n"
     ]
    }
   ],
   "source": [
    "print(classification_report(y_test,predictions_perceptron_test))"
   ]
  },
  {
   "cell_type": "markdown",
   "metadata": {
    "id": "-75JzC3oix7d"
   },
   "source": [
    "# SVM"
   ]
  },
  {
   "cell_type": "code",
   "execution_count": 44,
   "metadata": {},
   "outputs": [],
   "source": [
    "from sklearn import svm"
   ]
  },
  {
   "cell_type": "code",
   "execution_count": 45,
   "metadata": {
    "executionInfo": {
     "elapsed": 11,
     "status": "aborted",
     "timestamp": 1674262590492,
     "user": {
      "displayName": "ayushi amin",
      "userId": "06248665986512062761"
     },
     "user_tz": 480
    },
    "id": "A7tJDxSeix7d"
   },
   "outputs": [
    {
     "name": "stdout",
     "output_type": "stream",
     "text": [
      "0.6874687134990822\n"
     ]
    }
   ],
   "source": [
    "#(scikit-learn, 2023)\n",
    "linearsvm_classifier = svm.LinearSVC()\n",
    "linearsvm_classifier.fit(X_train_text, y_train)\n",
    "prediction_linearsvm = linearsvm_classifier.predict(X_test_text)\n",
    "\n",
    "print(accuracy_score(prediction_linearsvm ,y_test))"
   ]
  },
  {
   "cell_type": "code",
   "execution_count": 46,
   "metadata": {},
   "outputs": [
    {
     "name": "stdout",
     "output_type": "stream",
     "text": [
      "              precision    recall  f1-score   support\n",
      "\n",
      "           1       0.69      0.70      0.70      3997\n",
      "           2       0.62      0.58      0.60      3995\n",
      "           3       0.75      0.78      0.77      3994\n",
      "\n",
      "    accuracy                           0.69     11986\n",
      "   macro avg       0.68      0.69      0.69     11986\n",
      "weighted avg       0.68      0.69      0.69     11986\n",
      "\n"
     ]
    }
   ],
   "source": [
    "print(classification_report(y_test,prediction_linearsvm))"
   ]
  },
  {
   "cell_type": "markdown",
   "metadata": {
    "id": "0A7aldVqix7d"
   },
   "source": [
    "# Logistic Regression"
   ]
  },
  {
   "cell_type": "code",
   "execution_count": 47,
   "metadata": {},
   "outputs": [],
   "source": [
    "from sklearn.linear_model import LogisticRegression"
   ]
  },
  {
   "cell_type": "code",
   "execution_count": 48,
   "metadata": {
    "executionInfo": {
     "elapsed": 10,
     "status": "aborted",
     "timestamp": 1674262590492,
     "user": {
      "displayName": "ayushi amin",
      "userId": "06248665986512062761"
     },
     "user_tz": 480
    },
    "id": "N-jdfuhzix7d"
   },
   "outputs": [
    {
     "name": "stdout",
     "output_type": "stream",
     "text": [
      "0.6918905389621225\n"
     ]
    },
    {
     "name": "stderr",
     "output_type": "stream",
     "text": [
      "/opt/homebrew/lib/python3.10/site-packages/sklearn/linear_model/_logistic.py:458: ConvergenceWarning: lbfgs failed to converge (status=1):\n",
      "STOP: TOTAL NO. of ITERATIONS REACHED LIMIT.\n",
      "\n",
      "Increase the number of iterations (max_iter) or scale the data as shown in:\n",
      "    https://scikit-learn.org/stable/modules/preprocessing.html\n",
      "Please also refer to the documentation for alternative solver options:\n",
      "    https://scikit-learn.org/stable/modules/linear_model.html#logistic-regression\n",
      "  n_iter_i = _check_optimize_result(\n"
     ]
    }
   ],
   "source": [
    "#(scikit-learn, 2014)\n",
    "logisticregressor_classifier = LogisticRegression()\n",
    "logisticregressor_classifier.fit(X_train_text, y_train)\n",
    "predictions_logregression = logisticregressor_classifier.predict(X_test_text)\n",
    "\n",
    "print(accuracy_score(predictions_logregression, y_test))"
   ]
  },
  {
   "cell_type": "code",
   "execution_count": 49,
   "metadata": {},
   "outputs": [
    {
     "name": "stdout",
     "output_type": "stream",
     "text": [
      "              precision    recall  f1-score   support\n",
      "\n",
      "           1       0.69      0.71      0.70      3997\n",
      "           2       0.61      0.61      0.61      3995\n",
      "           3       0.77      0.76      0.76      3994\n",
      "\n",
      "    accuracy                           0.69     11986\n",
      "   macro avg       0.69      0.69      0.69     11986\n",
      "weighted avg       0.69      0.69      0.69     11986\n",
      "\n"
     ]
    }
   ],
   "source": [
    "print(classification_report(y_test,predictions_logregression))"
   ]
  },
  {
   "cell_type": "markdown",
   "metadata": {
    "id": "c2E9vh6hix7d"
   },
   "source": [
    "# Naive Bayes"
   ]
  },
  {
   "cell_type": "code",
   "execution_count": 50,
   "metadata": {},
   "outputs": [],
   "source": [
    "from sklearn.naive_bayes import MultinomialNB"
   ]
  },
  {
   "cell_type": "code",
   "execution_count": 51,
   "metadata": {
    "executionInfo": {
     "elapsed": 10,
     "status": "aborted",
     "timestamp": 1674262590492,
     "user": {
      "displayName": "ayushi amin",
      "userId": "06248665986512062761"
     },
     "user_tz": 480
    },
    "id": "UrnxnleTix7d"
   },
   "outputs": [
    {
     "name": "stdout",
     "output_type": "stream",
     "text": [
      "0.6855498081094611\n"
     ]
    }
   ],
   "source": [
    "#(scikit-learn, 2023)\n",
    "nb_model_multinb = MultinomialNB()\n",
    "nb_model_multinb.fit(X_train_text, y_train)\n",
    "predictions_mnb = nb_model_multinb.predict(X_test_text)\n",
    "\n",
    "\n",
    "print(nb_model_multinb.score(X_test_text, y_test))"
   ]
  },
  {
   "cell_type": "code",
   "execution_count": 52,
   "metadata": {},
   "outputs": [
    {
     "name": "stdout",
     "output_type": "stream",
     "text": [
      "              precision    recall  f1-score   support\n",
      "\n",
      "           1       0.71      0.67      0.69      3997\n",
      "           2       0.59      0.62      0.61      3995\n",
      "           3       0.76      0.76      0.76      3994\n",
      "\n",
      "    accuracy                           0.69     11986\n",
      "   macro avg       0.69      0.69      0.69     11986\n",
      "weighted avg       0.69      0.69      0.69     11986\n",
      "\n"
     ]
    }
   ],
   "source": [
    "print(classification_report(y_test,predictions_mnb))"
   ]
  },
  {
   "cell_type": "code",
   "execution_count": 53,
   "metadata": {},
   "outputs": [
    {
     "name": "stdout",
     "output_type": "stream",
     "text": [
      "Average length of reviews before data cleaning 268.98901666666666 , Average length of reviews after data cleaning 260.14189222994946\n"
     ]
    }
   ],
   "source": [
    "print('Average length of reviews before data cleaning %s ,' % avg_len_before_clean, \n",
    "      'Average length of reviews after data cleaning %s' % avg_len_after_clean)"
   ]
  },
  {
   "cell_type": "code",
   "execution_count": 54,
   "metadata": {},
   "outputs": [
    {
     "name": "stdout",
     "output_type": "stream",
     "text": [
      "Average length of reviews before data pre-processing 260.14189222994946 , Average length of reviews after data pre-processing 151.4153817914831\n"
     ]
    }
   ],
   "source": [
    "print('Average length of reviews before data pre-processing %s ,' % avg_len_before_preprocess, \n",
    "      'Average length of reviews after data pre-processing %s' % avg_len_after_preprocess)"
   ]
  },
  {
   "cell_type": "markdown",
   "metadata": {},
   "source": [
    "#### CLASSIFIER RESULTS"
   ]
  },
  {
   "cell_type": "code",
   "execution_count": 55,
   "metadata": {},
   "outputs": [
    {
     "name": "stdout",
     "output_type": "stream",
     "text": [
      "Perceptron\n",
      "Class 1 Precision = 0.6722817764165391 , Class 1 Recall = 0.6589942456842632 , Class 1 F1-Score = 0.6655716993051168\n",
      "Class 2 Precision = 0.5756334783721525 , Class 2 Recall = 0.5629536921151439 , Class 2 F1-Score = 0.5692229815236648\n",
      "Class 3 Precision = 0.7195385724585436 , Class 3 Recall = 0.7496244366549825 , Class 3 F1-Score = 0.7342734518700185\n",
      "Average Precision = 0.655815373338318 , Average Recall = 0.6571833806107125 , Average F1-Score = 0.6563510812680167\n",
      " \n",
      "SVM\n",
      "Class 1 Precision = 0.6886007827788649 , Class 1 Recall = 0.7042782086564924 , Class 1 F1-Score = 0.6963512677798391\n",
      "Class 2 Precision = 0.6169127516778523 , Class 2 Recall = 0.5752190237797247 , Class 2 F1-Score = 0.5953367875647667\n",
      "Class 3 Precision = 0.7493410016774503 , Class 3 Recall = 0.7829243865798698 , Class 3 F1-Score = 0.7657646626668299\n",
      "Average Precision = 0.6849467489087167 , Average Recall = 0.6874687134990822 , Average F1-Score = 0.6858126602977289\n",
      " \n",
      "Logistic Regression\n",
      "Class 1 Precision = 0.6947574718275356 , Class 1 Recall = 0.7095321491118338 , Class 1 F1-Score = 0.7020670875108306\n",
      "Class 2 Precision = 0.6112088464438301 , Class 2 Recall = 0.6087609511889862 , Class 2 F1-Score = 0.6099824429395535\n",
      "Class 3 Precision = 0.7707006369426752 , Class 3 Recall = 0.7573860791186781 , Class 3 F1-Score = 0.7639853516858189\n",
      "Average Precision = 0.6922161939251466 , Average Recall = 0.6918905389621225 , Average F1-Score = 0.6920073004302909\n",
      " \n",
      "Naive Bayes\n",
      "Class 1 Precision = 0.7067332982640715 , Class 1 Recall = 0.6722541906429822 , Class 1 F1-Score = 0.6890627003461982\n",
      "Class 2 Precision = 0.5936226324622392 , Class 2 Recall = 0.6197747183979975 , Class 2 F1-Score = 0.606416850355131\n",
      "Class 3 Precision = 0.7610266633441316 , Class 3 Recall = 0.7646469704556835 , Class 3 F1-Score = 0.7628325215436493\n",
      "Average Precision = 0.6871246373472886 , Average Recall = 0.6855498081094611 , Average F1-Score = 0.686098116260457\n"
     ]
    }
   ],
   "source": [
    "print(\"Perceptron\")\n",
    "\n",
    "print('Class 1 Precision = %s ,' % classification_report(y_test,predictions_perceptron_test, output_dict=True)['1']['precision'], \n",
    "      'Class 1 Recall = %s ,' % classification_report(y_test,predictions_perceptron_test, output_dict=True)['1']['recall'],\n",
    "     'Class 1 F1-Score = %s' % classification_report(y_test,predictions_perceptron_test, output_dict=True)['1']['f1-score'])\n",
    "\n",
    "print('Class 2 Precision = %s ,' % classification_report(y_test,predictions_perceptron_test, output_dict=True)['2']['precision'], \n",
    "      'Class 2 Recall = %s ,' % classification_report(y_test,predictions_perceptron_test, output_dict=True)['2']['recall'],\n",
    "     'Class 2 F1-Score = %s' % classification_report(y_test,predictions_perceptron_test, output_dict=True)['2']['f1-score'])\n",
    "\n",
    "print('Class 3 Precision = %s ,' % classification_report(y_test,predictions_perceptron_test, output_dict=True)['3']['precision'], \n",
    "      'Class 3 Recall = %s ,' % classification_report(y_test,predictions_perceptron_test, output_dict=True)['3']['recall'],\n",
    "     'Class 3 F1-Score = %s' % classification_report(y_test,predictions_perceptron_test, output_dict=True)['3']['f1-score'])\n",
    "\n",
    "print('Average Precision = %s ,' % classification_report(y_test,predictions_perceptron_test, output_dict=True)['weighted avg']['precision'], \n",
    "      'Average Recall = %s ,' % classification_report(y_test,predictions_perceptron_test, output_dict=True)['weighted avg']['recall'],\n",
    "     'Average F1-Score = %s' % classification_report(y_test,predictions_perceptron_test, output_dict=True)['weighted avg']['f1-score'])\n",
    "\n",
    "print(\" \")\n",
    "\n",
    "print(\"SVM\")\n",
    "\n",
    "print('Class 1 Precision = %s ,' % classification_report(y_test,prediction_linearsvm, output_dict=True)['1']['precision'], \n",
    "      'Class 1 Recall = %s ,' % classification_report(y_test,prediction_linearsvm, output_dict=True)['1']['recall'],\n",
    "     'Class 1 F1-Score = %s' % classification_report(y_test,prediction_linearsvm, output_dict=True)['1']['f1-score'])\n",
    "\n",
    "print('Class 2 Precision = %s ,' % classification_report(y_test,prediction_linearsvm, output_dict=True)['2']['precision'], \n",
    "      'Class 2 Recall = %s ,' % classification_report(y_test,prediction_linearsvm, output_dict=True)['2']['recall'],\n",
    "     'Class 2 F1-Score = %s' % classification_report(y_test,prediction_linearsvm, output_dict=True)['2']['f1-score'])\n",
    "\n",
    "print('Class 3 Precision = %s ,' % classification_report(y_test,prediction_linearsvm, output_dict=True)['3']['precision'], \n",
    "      'Class 3 Recall = %s ,' % classification_report(y_test,prediction_linearsvm, output_dict=True)['3']['recall'],\n",
    "     'Class 3 F1-Score = %s' % classification_report(y_test,prediction_linearsvm, output_dict=True)['3']['f1-score'])\n",
    "\n",
    "print('Average Precision = %s ,' % classification_report(y_test,prediction_linearsvm, output_dict=True)['weighted avg']['precision'], \n",
    "      'Average Recall = %s ,' % classification_report(y_test,prediction_linearsvm, output_dict=True)['weighted avg']['recall'],\n",
    "     'Average F1-Score = %s' % classification_report(y_test,prediction_linearsvm, output_dict=True)['weighted avg']['f1-score'])\n",
    "\n",
    "print(\" \")\n",
    "\n",
    "print(\"Logistic Regression\")\n",
    "\n",
    "print('Class 1 Precision = %s ,' % classification_report(y_test,predictions_logregression, output_dict=True)['1']['precision'], \n",
    "      'Class 1 Recall = %s ,' % classification_report(y_test,predictions_logregression, output_dict=True)['1']['recall'],\n",
    "     'Class 1 F1-Score = %s' % classification_report(y_test,predictions_logregression, output_dict=True)['1']['f1-score'])\n",
    "\n",
    "print('Class 2 Precision = %s ,' % classification_report(y_test,predictions_logregression, output_dict=True)['2']['precision'], \n",
    "      'Class 2 Recall = %s ,' % classification_report(y_test,predictions_logregression, output_dict=True)['2']['recall'],\n",
    "     'Class 2 F1-Score = %s' % classification_report(y_test,predictions_logregression, output_dict=True)['2']['f1-score'])\n",
    "\n",
    "print('Class 3 Precision = %s ,' % classification_report(y_test,predictions_logregression, output_dict=True)['3']['precision'], \n",
    "      'Class 3 Recall = %s ,' % classification_report(y_test,predictions_logregression, output_dict=True)['3']['recall'],\n",
    "     'Class 3 F1-Score = %s' % classification_report(y_test,predictions_logregression, output_dict=True)['3']['f1-score'])\n",
    "\n",
    "print('Average Precision = %s ,' % classification_report(y_test,predictions_logregression, output_dict=True)['weighted avg']['precision'], \n",
    "      'Average Recall = %s ,' % classification_report(y_test,predictions_logregression, output_dict=True)['weighted avg']['recall'],\n",
    "     'Average F1-Score = %s' % classification_report(y_test,predictions_logregression, output_dict=True)['weighted avg']['f1-score'])\n",
    "\n",
    "print(\" \")\n",
    "\n",
    "print(\"Naive Bayes\")\n",
    "\n",
    "print('Class 1 Precision = %s ,' % classification_report(y_test,predictions_mnb, output_dict=True)['1']['precision'], \n",
    "      'Class 1 Recall = %s ,' % classification_report(y_test,predictions_mnb, output_dict=True)['1']['recall'],\n",
    "     'Class 1 F1-Score = %s' % classification_report(y_test,predictions_mnb, output_dict=True)['1']['f1-score'])\n",
    "\n",
    "print('Class 2 Precision = %s ,' % classification_report(y_test,predictions_mnb, output_dict=True)['2']['precision'], \n",
    "      'Class 2 Recall = %s ,' % classification_report(y_test,predictions_mnb, output_dict=True)['2']['recall'],\n",
    "     'Class 2 F1-Score = %s' % classification_report(y_test,predictions_mnb, output_dict=True)['2']['f1-score'])\n",
    "\n",
    "print('Class 3 Precision = %s ,' % classification_report(y_test,predictions_mnb, output_dict=True)['3']['precision'], \n",
    "      'Class 3 Recall = %s ,' % classification_report(y_test,predictions_mnb, output_dict=True)['3']['recall'],\n",
    "     'Class 3 F1-Score = %s' % classification_report(y_test,predictions_mnb, output_dict=True)['3']['f1-score'])\n",
    "\n",
    "print('Average Precision = %s ,' % classification_report(y_test,predictions_mnb, output_dict=True)['weighted avg']['precision'], \n",
    "      'Average Recall = %s ,' % classification_report(y_test,predictions_mnb, output_dict=True)['weighted avg']['recall'],\n",
    "     'Average F1-Score = %s' % classification_report(y_test,predictions_mnb, output_dict=True)['weighted avg']['f1-score'])\n",
    "\n"
   ]
  },
  {
   "cell_type": "code",
   "execution_count": null,
   "metadata": {},
   "outputs": [],
   "source": []
  }
 ],
 "metadata": {
  "colab": {
   "provenance": []
  },
  "gpuClass": "standard",
  "kernelspec": {
   "display_name": "Python 3 (ipykernel)",
   "language": "python",
   "name": "python3"
  },
  "language_info": {
   "codemirror_mode": {
    "name": "ipython",
    "version": 3
   },
   "file_extension": ".py",
   "mimetype": "text/x-python",
   "name": "python",
   "nbconvert_exporter": "python",
   "pygments_lexer": "ipython3",
   "version": "3.10.9"
  }
 },
 "nbformat": 4,
 "nbformat_minor": 1
}
